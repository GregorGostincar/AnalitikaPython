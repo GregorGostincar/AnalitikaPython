{
 "cells": [
  {
   "cell_type": "code",
   "execution_count": 1,
   "metadata": {},
   "outputs": [],
   "source": [
    "import pandas as pd"
   ]
  },
  {
   "cell_type": "markdown",
   "metadata": {},
   "source": [
    "# Web scraping - pridobivanje podatkov s spleta\n"
   ]
  },
  {
   "cell_type": "markdown",
   "metadata": {},
   "source": [
    "## What Is Web Scraping?"
   ]
  },
  {
   "cell_type": "markdown",
   "metadata": {},
   "source": [
    "<img class=\"progressiveMedia-image js-progressiveMedia-image\" data-src=\"https://cdn-images-1.medium.com/max/1600/1*GOyqaID2x1N5lD_rhTDKVQ.png\" src=\"https://cdn-images-1.medium.com/max/1600/1*GOyqaID2x1N5lD_rhTDKVQ.png\">"
   ]
  },
  {
   "cell_type": "markdown",
   "metadata": {},
   "source": [
    "### Why Web Scraping for Data Science?"
   ]
  },
  {
   "cell_type": "markdown",
   "metadata": {},
   "source": [
    "## Network complexity"
   ]
  },
  {
   "cell_type": "markdown",
   "metadata": {},
   "source": [
    "## HTTP"
   ]
  },
  {
   "cell_type": "markdown",
   "metadata": {},
   "source": [
    "## HTTP in Python: The Requests Library"
   ]
  },
  {
   "cell_type": "markdown",
   "metadata": {},
   "source": [
    "[Requests: HTTP for Humans](https://2.python-requests.org/en/master/)"
   ]
  },
  {
   "cell_type": "code",
   "execution_count": 2,
   "metadata": {},
   "outputs": [],
   "source": [
    "import requests"
   ]
  },
  {
   "cell_type": "code",
   "execution_count": 3,
   "metadata": {},
   "outputs": [],
   "source": [
    "url = 'http://example.com/'"
   ]
  },
  {
   "cell_type": "code",
   "execution_count": 4,
   "metadata": {},
   "outputs": [],
   "source": [
    "r = requests.get(url)"
   ]
  },
  {
   "cell_type": "code",
   "execution_count": 5,
   "metadata": {},
   "outputs": [
    {
     "data": {
      "text/plain": [
       "<Response [200]>"
      ]
     },
     "execution_count": 5,
     "metadata": {},
     "output_type": "execute_result"
    }
   ],
   "source": [
    "r"
   ]
  },
  {
   "cell_type": "code",
   "execution_count": 6,
   "metadata": {},
   "outputs": [
    {
     "data": {
      "text/plain": [
       "requests.models.Response"
      ]
     },
     "execution_count": 6,
     "metadata": {},
     "output_type": "execute_result"
    }
   ],
   "source": [
    "type(r)"
   ]
  },
  {
   "cell_type": "code",
   "execution_count": 7,
   "metadata": {},
   "outputs": [
    {
     "data": {
      "text/plain": [
       "'<!doctype html>\\n<html>\\n<head>\\n    <title>Example Domain</title>\\n\\n    <meta charset=\"utf-8\" />\\n    <meta http-equiv=\"Content-type\" content=\"text/html; charset=utf-8\" />\\n    <meta name=\"viewport\" content=\"width=device-width, initial-scale=1\" />\\n    <style type=\"text/css\">\\n    body {\\n        background-color: #f0f0f2;\\n        margin: 0;\\n        padding: 0;\\n        font-family: \"Open Sans\", \"Helvetica Neue\", Helvetica, Arial, sans-serif;\\n        \\n    }\\n    div {\\n        width: 600px;\\n        margin: 5em auto;\\n        padding: 50px;\\n        background-color: #fff;\\n        border-radius: 1em;\\n    }\\n    a:link, a:visited {\\n        color: #38488f;\\n        text-decoration: none;\\n    }\\n    @media (max-width: 700px) {\\n        body {\\n            background-color: #fff;\\n        }\\n        div {\\n            width: auto;\\n            margin: 0 auto;\\n            border-radius: 0;\\n            padding: 1em;\\n        }\\n    }\\n    </style>    \\n</head>\\n\\n<body>\\n<div>\\n    <h1>Example Domain</h1>\\n    <p>This domain is established to be used for illustrative examples in documents. You may use this\\n    domain in examples without prior coordination or asking for permission.</p>\\n    <p><a href=\"http://www.iana.org/domains/example\">More information...</a></p>\\n</div>\\n</body>\\n</html>\\n'"
      ]
     },
     "execution_count": 7,
     "metadata": {},
     "output_type": "execute_result"
    }
   ],
   "source": [
    "r.text"
   ]
  },
  {
   "cell_type": "code",
   "execution_count": 8,
   "metadata": {},
   "outputs": [
    {
     "data": {
      "text/plain": [
       "200"
      ]
     },
     "execution_count": 8,
     "metadata": {},
     "output_type": "execute_result"
    }
   ],
   "source": [
    "r.status_code"
   ]
  },
  {
   "cell_type": "code",
   "execution_count": 9,
   "metadata": {},
   "outputs": [
    {
     "data": {
      "text/plain": [
       "'OK'"
      ]
     },
     "execution_count": 9,
     "metadata": {},
     "output_type": "execute_result"
    }
   ],
   "source": [
    "r.reason"
   ]
  },
  {
   "cell_type": "code",
   "execution_count": 10,
   "metadata": {},
   "outputs": [
    {
     "data": {
      "text/plain": [
       "{'Content-Encoding': 'gzip', 'Accept-Ranges': 'bytes', 'Cache-Control': 'max-age=604800', 'Content-Type': 'text/html; charset=UTF-8', 'Date': 'Mon, 27 May 2019 14:24:59 GMT', 'Etag': '\"1541025663\"', 'Expires': 'Mon, 03 Jun 2019 14:24:59 GMT', 'Last-Modified': 'Fri, 09 Aug 2013 23:54:35 GMT', 'Server': 'ECS (dcb/7F37)', 'Vary': 'Accept-Encoding', 'X-Cache': 'HIT', 'Content-Length': '606'}"
      ]
     },
     "execution_count": 10,
     "metadata": {},
     "output_type": "execute_result"
    }
   ],
   "source": [
    "r.headers"
   ]
  },
  {
   "cell_type": "code",
   "execution_count": 11,
   "metadata": {},
   "outputs": [
    {
     "data": {
      "text/plain": [
       "<PreparedRequest [GET]>"
      ]
     },
     "execution_count": 11,
     "metadata": {},
     "output_type": "execute_result"
    }
   ],
   "source": [
    "r.request"
   ]
  },
  {
   "cell_type": "code",
   "execution_count": 12,
   "metadata": {},
   "outputs": [
    {
     "data": {
      "text/plain": [
       "{'User-Agent': 'python-requests/2.21.0', 'Accept-Encoding': 'gzip, deflate', 'Accept': '*/*', 'Connection': 'keep-alive'}"
      ]
     },
     "execution_count": 12,
     "metadata": {},
     "output_type": "execute_result"
    }
   ],
   "source": [
    "r.request.headers"
   ]
  },
  {
   "cell_type": "markdown",
   "metadata": {},
   "source": [
    "## HTML and CSS"
   ]
  },
  {
   "cell_type": "markdown",
   "metadata": {},
   "source": [
    "<img class=\"progressiveMedia-image js-progressiveMedia-image\" data-src=\"https://cdn-images-1.medium.com/max/1600/1*x9mxFBXnLU05iPy19dGj7g.png\" src=\"https://cdn-images-1.medium.com/max/1600/1*x9mxFBXnLU05iPy19dGj7g.png\">"
   ]
  },
  {
   "cell_type": "markdown",
   "metadata": {},
   "source": [
    "### Hypertext Markup Language: HTML"
   ]
  },
  {
   "cell_type": "markdown",
   "metadata": {},
   "source": [
    "Link strani: https://en.wikipedia.org/w/index.php?title=List_of_Game_of_Thrones_episodes&oldid=802553687"
   ]
  },
  {
   "cell_type": "code",
   "execution_count": 13,
   "metadata": {},
   "outputs": [],
   "source": [
    "import requests"
   ]
  },
  {
   "cell_type": "code",
   "execution_count": 14,
   "metadata": {},
   "outputs": [],
   "source": [
    "url_got = 'https://en.wikipedia.org/w/index.php?title=List_of_Game_of_Thrones_episodes&oldid=802553687'"
   ]
  },
  {
   "cell_type": "code",
   "execution_count": 15,
   "metadata": {},
   "outputs": [],
   "source": [
    "r = requests.get(url_got)"
   ]
  },
  {
   "cell_type": "code",
   "execution_count": 16,
   "metadata": {},
   "outputs": [
    {
     "data": {
      "text/plain": [
       "'<!DOCTYPE html>\\n<html class=\"client-nojs\" lang=\"en\" dir=\"ltr\">\\n<head>\\n<meta charset=\"UTF-8\"/>\\n<title>List of Game of Thrones episodes - Wikipedia</title>\\n<script>document.documentElement.className=document.documentElement.className.replace(/(^|\\\\s)client-nojs(\\\\s|$)/,\"$1client-js$2\");RLCONF={\"wgCanonicalNamespace\":\"\",\"wgCanonicalSpecialPageName\":!1,\"wgNamespaceNumber\":0,\"wgPageName\":\"List_of_Game_of_Thrones_episodes\",\"wgTitle\":\"List of Game of Thrones episodes\",\"wgCurRevisionId\":898999050,\"wgRevisionId\":802553687,\"wgArticleId\":31120069,\"wgIsArticle\":!0,\"wgIsRedirect\":!1,\"wgAction\":\"view\",\"wgUserName\":null,\"wgUserGroups\":[\"*\"],\"wgCategories\":[\"Articles containing potentially dated statements from August 2017\",\"All articles containing potentially dated statements\",\"Official website not in Wikidata\",\"Featured lists\",\"Game of Thrones episodes\",\"Lists of American drama television series episodes\",\"Lists of fantasy television series episodes\"],\"wgBreakFrames\":!1,\"wgPageContentLanguage\":\"en\",\"w'"
      ]
     },
     "execution_count": 16,
     "metadata": {},
     "output_type": "execute_result"
    }
   ],
   "source": [
    "r.text[:1000]"
   ]
  },
  {
   "cell_type": "markdown",
   "metadata": {},
   "source": [
    "- `<p>...</p>` to enclose a paragraph;\n",
    "- `<br>` to set a line break;\n",
    "- `<table>...</table>` to start a table block, inside; `<tr>...<tr/>` is used for the rows; and `<td>...</td>` cells;\n",
    "- `<img>` for images;\n",
    "- `<h1>...</h1> to <h6>...</h6>` for headers;\n",
    "- `<div>...</div>` to indicate a “division” in an HTML document, basically used to group a set of elements;\n",
    "- `<a>...</a>` for hyperlinks;\n",
    "- `<ul>...</ul>, <ol>...</ol>` for unordered and ordered lists respectively; inside of these, `<li>...</li>` is used for each list item."
   ]
  },
  {
   "cell_type": "markdown",
   "metadata": {},
   "source": [
    "## Using Your Browser as a Development Tool"
   ]
  },
  {
   "cell_type": "markdown",
   "metadata": {},
   "source": [
    "## The Beautiful Soup Library"
   ]
  },
  {
   "cell_type": "code",
   "execution_count": 17,
   "metadata": {},
   "outputs": [],
   "source": [
    "html_content = r.text"
   ]
  },
  {
   "cell_type": "markdown",
   "metadata": {},
   "source": [
    "> **[beautifulsoup4](https://www.crummy.com/software/BeautifulSoup/bs4/doc/)**: Beautiful Soup tries to organize complexity: it helps to parse, structure and organize the oftentimes very messy web by fixing bad HTML and presenting us with an easy-to-work-with Python structure."
   ]
  },
  {
   "cell_type": "code",
   "execution_count": 18,
   "metadata": {},
   "outputs": [],
   "source": [
    "from bs4 import BeautifulSoup"
   ]
  },
  {
   "cell_type": "code",
   "execution_count": 19,
   "metadata": {},
   "outputs": [],
   "source": [
    "html_soup = BeautifulSoup(html_content, 'html.parser')"
   ]
  },
  {
   "cell_type": "markdown",
   "metadata": {},
   "source": [
    "In Python, multiple parsers exist to do so:\n",
    "- `html.parser`: a built-in Python parser that is decent (especially when using recent versions of Python 3) and requires no extra installation.\n",
    "- `lxml`: which is very fast but requires an extra installation.\n",
    "- `html5lib`: which aims to parse web page in exactly the same way as a web browser does, but is a bit slower."
   ]
  },
  {
   "cell_type": "markdown",
   "metadata": {},
   "source": [
    "- `find(name, attrs, recursive, string, **keywords)`\n",
    "- `find_all(name, attrs, recursive, string, limit, **keywords)`"
   ]
  },
  {
   "cell_type": "code",
   "execution_count": 20,
   "metadata": {},
   "outputs": [
    {
     "data": {
      "text/plain": [
       "<h1 class=\"firstHeading\" id=\"firstHeading\" lang=\"en\">List of <i>Game of Thrones</i> episodes</h1>"
      ]
     },
     "execution_count": 20,
     "metadata": {},
     "output_type": "execute_result"
    }
   ],
   "source": [
    "html_soup.find('h1')"
   ]
  },
  {
   "cell_type": "code",
   "execution_count": 21,
   "metadata": {},
   "outputs": [
    {
     "data": {
      "text/plain": [
       "<h1 class=\"firstHeading\" id=\"firstHeading\" lang=\"en\">List of <i>Game of Thrones</i> episodes</h1>"
      ]
     },
     "execution_count": 21,
     "metadata": {},
     "output_type": "execute_result"
    }
   ],
   "source": [
    "html_soup.find('', {'id':'firstHeading'})"
   ]
  },
  {
   "cell_type": "code",
   "execution_count": null,
   "metadata": {},
   "outputs": [],
   "source": []
  },
  {
   "cell_type": "code",
   "execution_count": 23,
   "metadata": {},
   "outputs": [
    {
     "data": {
      "text/plain": [
       "[<h2>Contents</h2>,\n",
       " <h2><span class=\"mw-headline\" id=\"Series_overview\">Series overview</span></h2>,\n",
       " <h2><span class=\"mw-headline\" id=\"Episodes\">Episodes</span></h2>,\n",
       " <h2><span class=\"mw-headline\" id=\"Home_media_releases\">Home media releases</span></h2>,\n",
       " <h2><span class=\"mw-headline\" id=\"Ratings\">Ratings</span></h2>,\n",
       " <h2><span class=\"mw-headline\" id=\"References\">References</span></h2>,\n",
       " <h2><span class=\"mw-headline\" id=\"External_links\">External links</span></h2>,\n",
       " <h2>Navigation menu</h2>]"
      ]
     },
     "execution_count": 23,
     "metadata": {},
     "output_type": "execute_result"
    }
   ],
   "source": [
    "all_h1=html_soup.find_all('h2')\n",
    "all_h1"
   ]
  },
  {
   "cell_type": "code",
   "execution_count": null,
   "metadata": {},
   "outputs": [],
   "source": []
  },
  {
   "cell_type": "code",
   "execution_count": 25,
   "metadata": {},
   "outputs": [
    {
     "data": {
      "text/plain": [
       "<h1 class=\"firstHeading\" id=\"firstHeading\" lang=\"en\">List of <i>Game of Thrones</i> episodes</h1>"
      ]
     },
     "execution_count": 25,
     "metadata": {},
     "output_type": "execute_result"
    }
   ],
   "source": [
    "first_h1=html_soup.find('h1')\n",
    "first_h1"
   ]
  },
  {
   "cell_type": "code",
   "execution_count": 26,
   "metadata": {},
   "outputs": [
    {
     "data": {
      "text/plain": [
       "'h1'"
      ]
     },
     "execution_count": 26,
     "metadata": {},
     "output_type": "execute_result"
    }
   ],
   "source": [
    "first_h1.name"
   ]
  },
  {
   "cell_type": "code",
   "execution_count": 27,
   "metadata": {},
   "outputs": [
    {
     "data": {
      "text/plain": [
       "['List of ', <i>Game of Thrones</i>, ' episodes']"
      ]
     },
     "execution_count": 27,
     "metadata": {},
     "output_type": "execute_result"
    }
   ],
   "source": [
    "first_h1.contents"
   ]
  },
  {
   "cell_type": "code",
   "execution_count": null,
   "metadata": {},
   "outputs": [],
   "source": []
  },
  {
   "cell_type": "code",
   "execution_count": 28,
   "metadata": {},
   "outputs": [
    {
     "data": {
      "text/plain": [
       "'List of Game of Thrones episodes'"
      ]
     },
     "execution_count": 28,
     "metadata": {},
     "output_type": "execute_result"
    }
   ],
   "source": [
    "first_h1.text"
   ]
  },
  {
   "cell_type": "code",
   "execution_count": null,
   "metadata": {},
   "outputs": [],
   "source": []
  },
  {
   "cell_type": "code",
   "execution_count": 29,
   "metadata": {},
   "outputs": [
    {
     "data": {
      "text/plain": [
       "{'id': 'firstHeading', 'class': ['firstHeading'], 'lang': 'en'}"
      ]
     },
     "execution_count": 29,
     "metadata": {},
     "output_type": "execute_result"
    }
   ],
   "source": [
    "first_h1.attrs"
   ]
  },
  {
   "cell_type": "code",
   "execution_count": null,
   "metadata": {},
   "outputs": [],
   "source": []
  },
  {
   "cell_type": "code",
   "execution_count": 32,
   "metadata": {},
   "outputs": [
    {
     "data": {
      "text/plain": [
       "'List of 876Game of Thrones876 episodes'"
      ]
     },
     "execution_count": 32,
     "metadata": {},
     "output_type": "execute_result"
    }
   ],
   "source": [
    "first_h1.get_text('876')"
   ]
  },
  {
   "cell_type": "code",
   "execution_count": null,
   "metadata": {},
   "outputs": [],
   "source": []
  },
  {
   "cell_type": "code",
   "execution_count": 33,
   "metadata": {},
   "outputs": [
    {
     "data": {
      "text/plain": [
       "'firstHeading'"
      ]
     },
     "execution_count": 33,
     "metadata": {},
     "output_type": "execute_result"
    }
   ],
   "source": [
    "first_h1['id']"
   ]
  },
  {
   "cell_type": "code",
   "execution_count": null,
   "metadata": {},
   "outputs": [],
   "source": []
  },
  {
   "cell_type": "code",
   "execution_count": 38,
   "metadata": {},
   "outputs": [
    {
     "data": {
      "text/plain": [
       "[<cite class=\"citation web\">Fowler, Matt (April 8, 2011). <a class=\"external text\" href=\"http://tv.ign.com/articles/116/1160215p1.html\" rel=\"nofollow\">\"Game of Thrones: \"Winter is Coming\" Review\"</a>. <a href=\"/wiki/IGN\" title=\"IGN\">IGN</a>. <a class=\"external text\" href=\"https://web.archive.org/web/20120817073932/http://tv.ign.com/articles/116/1160215p1.html\" rel=\"nofollow\">Archived</a> from the original on August 17, 2012<span class=\"reference-accessdate\">. Retrieved <span class=\"nowrap\">September 22,</span> 2016</span>.</cite>,\n",
       " <cite class=\"citation news\">Fleming, Michael (January 16, 2007). <a class=\"external text\" href=\"http://www.variety.com/article/VR1117957532.html?categoryid=14&amp;cs=1\" rel=\"nofollow\">\"HBO turns <i>Fire</i> into fantasy series\"</a>. <i><a href=\"/wiki/Variety_(magazine)\" title=\"Variety (magazine)\">Variety</a></i>. <a class=\"external text\" href=\"https://web.archive.org/web/20120516224747/http://www.variety.com/article/VR1117957532?refCatId=14\" rel=\"nofollow\">Archived</a> from the original on May 16, 2012<span class=\"reference-accessdate\">. Retrieved <span class=\"nowrap\">September 3,</span> 2016</span>.</cite>,\n",
       " <cite class=\"citation web\"><a class=\"external text\" href=\"http://www.emmys.com/shows/game-thrones\" rel=\"nofollow\">\"Game of Thrones\"</a>. <a href=\"/wiki/Emmy_Award\" title=\"Emmy Award\">Emmys.com</a><span class=\"reference-accessdate\">. Retrieved <span class=\"nowrap\">September 17,</span> 2016</span>.</cite>,\n",
       " <cite class=\"citation news\">Roberts, Josh (April 1, 2012). <a class=\"external text\" href=\"https://web.archive.org/web/20120401123724/http://travel.usatoday.com/destinations/story/2012-04-01/Where-the-HBO-hit-Game-of-Thrones-was-filmed/53876876/1\" rel=\"nofollow\">\"Where HBO's hit 'Game of Thrones' was filmed\"</a>. <i><a href=\"/wiki/USA_Today\" title=\"USA Today\">USA Today</a></i>. Archived from <a class=\"external text\" href=\"http://travel.usatoday.com/destinations/story/2012-04-01/Where-the-HBO-hit-Game-of-Thrones-was-filmed/53876876/1\" rel=\"nofollow\">the original</a> on April 1, 2012<span class=\"reference-accessdate\">. Retrieved <span class=\"nowrap\">March 8,</span> 2013</span>.</cite>]"
      ]
     },
     "execution_count": 38,
     "metadata": {},
     "output_type": "execute_result"
    }
   ],
   "source": [
    "cite=html_soup.find_all('cite',limit=4,class_='citation')\n",
    "cite"
   ]
  },
  {
   "cell_type": "code",
   "execution_count": 39,
   "metadata": {},
   "outputs": [
    {
     "data": {
      "text/plain": [
       "'Fowler, Matt (April 8, 2011). \"Game of Thrones: \"Winter is Coming\" Review\". IGN. Archived from the original on August 17, 2012. Retrieved September 22, 2016.'"
      ]
     },
     "execution_count": 39,
     "metadata": {},
     "output_type": "execute_result"
    }
   ],
   "source": [
    "cite[0].text"
   ]
  },
  {
   "cell_type": "code",
   "execution_count": 43,
   "metadata": {},
   "outputs": [
    {
     "data": {
      "text/plain": [
       "'http://tv.ign.com/articles/116/1160215p1.html'"
      ]
     },
     "execution_count": 43,
     "metadata": {},
     "output_type": "execute_result"
    }
   ],
   "source": [
    "link=cite[0].find('a').get('href')\n",
    "link"
   ]
  },
  {
   "cell_type": "code",
   "execution_count": 45,
   "metadata": {},
   "outputs": [
    {
     "name": "stdout",
     "output_type": "stream",
     "text": [
      "http://tv.ign.com/articles/116/1160215p1.html\n",
      "http://www.variety.com/article/VR1117957532.html?categoryid=14&cs=1\n",
      "http://www.emmys.com/shows/game-thrones\n",
      "https://web.archive.org/web/20120401123724/http://travel.usatoday.com/destinations/story/2012-04-01/Where-the-HBO-hit-Game-of-Thrones-was-filmed/53876876/1\n"
     ]
    }
   ],
   "source": [
    "for c in cite:\n",
    "    print(c.find('a').get('href'))"
   ]
  },
  {
   "cell_type": "code",
   "execution_count": null,
   "metadata": {},
   "outputs": [],
   "source": []
  },
  {
   "cell_type": "code",
   "execution_count": 46,
   "metadata": {},
   "outputs": [
    {
     "data": {
      "text/plain": [
       "'\\n\\n\\n\\nList of Game of Thrones episodes - Wikipedia\\ndocument.documentElement.className=document.documentElement.className.replace(/(^|\\\\s)client-nojs(\\\\s|$)/,\"$1client-js$2\");RLCONF={\"wgCanonicalNamespace\":\"\",\"wgCanonicalSpecialPageName\":!1,\"wgNamespaceNumber\":0,\"wgPageName\":\"List_of_Game_of_Thrones_episodes\",\"wgTitle\":\"List of Game of Thrones episodes\",\"wgCurRevisionId\":898999050,\"wgRevisionId\":802553687,\"wgArticleId\":31120069,\"wgIsArticle\":!0,\"wgIsRedirect\":!1,\"wgAction\":\"view\",\"wgUserName\":null,\"w'"
      ]
     },
     "execution_count": 46,
     "metadata": {},
     "output_type": "execute_result"
    }
   ],
   "source": [
    "html_soup.text[:500]"
   ]
  },
  {
   "cell_type": "code",
   "execution_count": 53,
   "metadata": {},
   "outputs": [],
   "source": [
    "episodes=[]"
   ]
  },
  {
   "cell_type": "code",
   "execution_count": 54,
   "metadata": {},
   "outputs": [],
   "source": [
    "ep_tables=html_soup.find_all('table',class_='wikiepisodetable')"
   ]
  },
  {
   "cell_type": "code",
   "execution_count": 55,
   "metadata": {},
   "outputs": [
    {
     "data": {
      "text/plain": [
       "7"
      ]
     },
     "execution_count": 55,
     "metadata": {},
     "output_type": "execute_result"
    }
   ],
   "source": [
    "len(ep_tables)"
   ]
  },
  {
   "cell_type": "code",
   "execution_count": 56,
   "metadata": {},
   "outputs": [],
   "source": [
    "for table in ep_tables:\n",
    "    headers=[]\n",
    "    rows=table.find_all('tr')\n",
    "    for header in table.find('tr').find_all('th'):\n",
    "        headers.append(header.text)\n",
    "    for row in rows[1:]:\n",
    "        values=[]\n",
    "        for col in row.find_all(['th','td']):\n",
    "            values.append(col.text)\n",
    "        if values:\n",
    "            episode_dict={headers[i]:values[i] for i in range(len(values))}\n",
    "            episodes.append(episode_dict)"
   ]
  },
  {
   "cell_type": "code",
   "execution_count": 57,
   "metadata": {},
   "outputs": [
    {
     "data": {
      "text/plain": [
       "{'No.overall': '1',\n",
       " 'No. inseason': '1',\n",
       " 'Title': '\"Winter Is Coming\"',\n",
       " 'Directed by': 'Tim Van Patten',\n",
       " 'Written by': 'David Benioff & D. B. Weiss',\n",
       " 'Original air date': 'April\\xa017,\\xa02011\\xa0(2011-04-17)',\n",
       " 'U.S. viewers(millions)': '2.22[20]'}"
      ]
     },
     "execution_count": 57,
     "metadata": {},
     "output_type": "execute_result"
    }
   ],
   "source": [
    "episodes[0]"
   ]
  },
  {
   "cell_type": "code",
   "execution_count": 58,
   "metadata": {},
   "outputs": [
    {
     "data": {
      "text/html": [
       "<div>\n",
       "<style scoped>\n",
       "    .dataframe tbody tr th:only-of-type {\n",
       "        vertical-align: middle;\n",
       "    }\n",
       "\n",
       "    .dataframe tbody tr th {\n",
       "        vertical-align: top;\n",
       "    }\n",
       "\n",
       "    .dataframe thead th {\n",
       "        text-align: right;\n",
       "    }\n",
       "</style>\n",
       "<table border=\"1\" class=\"dataframe\">\n",
       "  <thead>\n",
       "    <tr style=\"text-align: right;\">\n",
       "      <th></th>\n",
       "      <th>Directed by</th>\n",
       "      <th>No. inseason</th>\n",
       "      <th>No.overall</th>\n",
       "      <th>Original air date</th>\n",
       "      <th>Title</th>\n",
       "      <th>U.S. viewers(millions)</th>\n",
       "      <th>Written by</th>\n",
       "    </tr>\n",
       "  </thead>\n",
       "  <tbody>\n",
       "    <tr>\n",
       "      <th>0</th>\n",
       "      <td>Tim Van Patten</td>\n",
       "      <td>1</td>\n",
       "      <td>1</td>\n",
       "      <td>April 17, 2011 (2011-04-17)</td>\n",
       "      <td>\"Winter Is Coming\"</td>\n",
       "      <td>2.22[20]</td>\n",
       "      <td>David Benioff &amp; D. B. Weiss</td>\n",
       "    </tr>\n",
       "    <tr>\n",
       "      <th>1</th>\n",
       "      <td>Tim Van Patten</td>\n",
       "      <td>2</td>\n",
       "      <td>2</td>\n",
       "      <td>April 24, 2011 (2011-04-24)</td>\n",
       "      <td>\"The Kingsroad\"</td>\n",
       "      <td>2.20[21]</td>\n",
       "      <td>David Benioff &amp; D. B. Weiss</td>\n",
       "    </tr>\n",
       "    <tr>\n",
       "      <th>2</th>\n",
       "      <td>Brian Kirk</td>\n",
       "      <td>3</td>\n",
       "      <td>3</td>\n",
       "      <td>May 1, 2011 (2011-05-01)</td>\n",
       "      <td>\"Lord Snow\"</td>\n",
       "      <td>2.44[22]</td>\n",
       "      <td>David Benioff &amp; D. B. Weiss</td>\n",
       "    </tr>\n",
       "    <tr>\n",
       "      <th>3</th>\n",
       "      <td>Brian Kirk</td>\n",
       "      <td>4</td>\n",
       "      <td>4</td>\n",
       "      <td>May 8, 2011 (2011-05-08)</td>\n",
       "      <td>\"Cripples, Bastards, and Broken Things\"</td>\n",
       "      <td>2.45[23]</td>\n",
       "      <td>Bryan Cogman</td>\n",
       "    </tr>\n",
       "    <tr>\n",
       "      <th>4</th>\n",
       "      <td>Brian Kirk</td>\n",
       "      <td>5</td>\n",
       "      <td>5</td>\n",
       "      <td>May 15, 2011 (2011-05-15)</td>\n",
       "      <td>\"The Wolf and the Lion\"</td>\n",
       "      <td>2.58[24]</td>\n",
       "      <td>David Benioff &amp; D. B. Weiss</td>\n",
       "    </tr>\n",
       "    <tr>\n",
       "      <th>5</th>\n",
       "      <td>Daniel Minahan</td>\n",
       "      <td>6</td>\n",
       "      <td>6</td>\n",
       "      <td>May 22, 2011 (2011-05-22)</td>\n",
       "      <td>\"A Golden Crown\"</td>\n",
       "      <td>2.44[25]</td>\n",
       "      <td>Story by : David Benioff &amp; D. B. Weiss Telepla...</td>\n",
       "    </tr>\n",
       "    <tr>\n",
       "      <th>6</th>\n",
       "      <td>Daniel Minahan</td>\n",
       "      <td>7</td>\n",
       "      <td>7</td>\n",
       "      <td>May 29, 2011 (2011-05-29)</td>\n",
       "      <td>\"You Win or You Die\"</td>\n",
       "      <td>2.40[26]</td>\n",
       "      <td>David Benioff &amp; D. B. Weiss</td>\n",
       "    </tr>\n",
       "    <tr>\n",
       "      <th>7</th>\n",
       "      <td>Daniel Minahan</td>\n",
       "      <td>8</td>\n",
       "      <td>8</td>\n",
       "      <td>June 5, 2011 (2011-06-05)</td>\n",
       "      <td>\"The Pointy End\"</td>\n",
       "      <td>2.72[27]</td>\n",
       "      <td>George R. R. Martin</td>\n",
       "    </tr>\n",
       "    <tr>\n",
       "      <th>8</th>\n",
       "      <td>Alan Taylor</td>\n",
       "      <td>9</td>\n",
       "      <td>9</td>\n",
       "      <td>June 12, 2011 (2011-06-12)</td>\n",
       "      <td>\"Baelor\"</td>\n",
       "      <td>2.66[28]</td>\n",
       "      <td>David Benioff &amp; D. B. Weiss</td>\n",
       "    </tr>\n",
       "    <tr>\n",
       "      <th>9</th>\n",
       "      <td>Alan Taylor</td>\n",
       "      <td>10</td>\n",
       "      <td>10</td>\n",
       "      <td>June 19, 2011 (2011-06-19)</td>\n",
       "      <td>\"Fire and Blood\"</td>\n",
       "      <td>3.04[29]</td>\n",
       "      <td>David Benioff &amp; D. B. Weiss</td>\n",
       "    </tr>\n",
       "    <tr>\n",
       "      <th>10</th>\n",
       "      <td>Alan Taylor</td>\n",
       "      <td>1</td>\n",
       "      <td>11</td>\n",
       "      <td>April 1, 2012 (2012-04-01)</td>\n",
       "      <td>\"The North Remembers\"</td>\n",
       "      <td>3.86[30]</td>\n",
       "      <td>David Benioff &amp; D. B. Weiss</td>\n",
       "    </tr>\n",
       "    <tr>\n",
       "      <th>11</th>\n",
       "      <td>Alan Taylor</td>\n",
       "      <td>2</td>\n",
       "      <td>12</td>\n",
       "      <td>April 8, 2012 (2012-04-08)</td>\n",
       "      <td>\"The Night Lands\"</td>\n",
       "      <td>3.76[31]</td>\n",
       "      <td>David Benioff &amp; D. B. Weiss</td>\n",
       "    </tr>\n",
       "    <tr>\n",
       "      <th>12</th>\n",
       "      <td>Alik Sakharov</td>\n",
       "      <td>3</td>\n",
       "      <td>13</td>\n",
       "      <td>April 15, 2012 (2012-04-15)</td>\n",
       "      <td>\"What Is Dead May Never Die\"</td>\n",
       "      <td>3.77[32]</td>\n",
       "      <td>Bryan Cogman</td>\n",
       "    </tr>\n",
       "    <tr>\n",
       "      <th>13</th>\n",
       "      <td>David Petrarca</td>\n",
       "      <td>4</td>\n",
       "      <td>14</td>\n",
       "      <td>April 22, 2012 (2012-04-22)</td>\n",
       "      <td>\"Garden of Bones\"</td>\n",
       "      <td>3.65[33]</td>\n",
       "      <td>Vanessa Taylor</td>\n",
       "    </tr>\n",
       "    <tr>\n",
       "      <th>14</th>\n",
       "      <td>David Petrarca</td>\n",
       "      <td>5</td>\n",
       "      <td>15</td>\n",
       "      <td>April 29, 2012 (2012-04-29)</td>\n",
       "      <td>\"The Ghost of Harrenhal\"</td>\n",
       "      <td>3.90[34]</td>\n",
       "      <td>David Benioff &amp; D. B. Weiss</td>\n",
       "    </tr>\n",
       "    <tr>\n",
       "      <th>15</th>\n",
       "      <td>David Nutter</td>\n",
       "      <td>6</td>\n",
       "      <td>16</td>\n",
       "      <td>May 6, 2012 (2012-05-06)</td>\n",
       "      <td>\"The Old Gods and the New\"</td>\n",
       "      <td>3.88[35]</td>\n",
       "      <td>Vanessa Taylor</td>\n",
       "    </tr>\n",
       "    <tr>\n",
       "      <th>16</th>\n",
       "      <td>David Nutter</td>\n",
       "      <td>7</td>\n",
       "      <td>17</td>\n",
       "      <td>May 13, 2012 (2012-05-13)</td>\n",
       "      <td>\"A Man Without Honor\"</td>\n",
       "      <td>3.69[36]</td>\n",
       "      <td>David Benioff &amp; D. B. Weiss</td>\n",
       "    </tr>\n",
       "    <tr>\n",
       "      <th>17</th>\n",
       "      <td>Alan Taylor</td>\n",
       "      <td>8</td>\n",
       "      <td>18</td>\n",
       "      <td>May 20, 2012 (2012-05-20)</td>\n",
       "      <td>\"The Prince of Winterfell\"</td>\n",
       "      <td>3.86[37]</td>\n",
       "      <td>David Benioff &amp; D. B. Weiss</td>\n",
       "    </tr>\n",
       "    <tr>\n",
       "      <th>18</th>\n",
       "      <td>Neil Marshall</td>\n",
       "      <td>9</td>\n",
       "      <td>19</td>\n",
       "      <td>May 27, 2012 (2012-05-27)</td>\n",
       "      <td>\"Blackwater\"</td>\n",
       "      <td>3.38[38]</td>\n",
       "      <td>George R. R. Martin</td>\n",
       "    </tr>\n",
       "    <tr>\n",
       "      <th>19</th>\n",
       "      <td>Alan Taylor</td>\n",
       "      <td>10</td>\n",
       "      <td>20</td>\n",
       "      <td>June 3, 2012 (2012-06-03)</td>\n",
       "      <td>\"Valar Morghulis\"</td>\n",
       "      <td>4.20[39]</td>\n",
       "      <td>David Benioff &amp; D. B. Weiss</td>\n",
       "    </tr>\n",
       "    <tr>\n",
       "      <th>20</th>\n",
       "      <td>Daniel Minahan</td>\n",
       "      <td>1</td>\n",
       "      <td>21</td>\n",
       "      <td>March 31, 2013 (2013-03-31)</td>\n",
       "      <td>\"Valar Dohaeris\"</td>\n",
       "      <td>4.37[40]</td>\n",
       "      <td>David Benioff &amp; D. B. Weiss</td>\n",
       "    </tr>\n",
       "    <tr>\n",
       "      <th>21</th>\n",
       "      <td>Daniel Minahan</td>\n",
       "      <td>2</td>\n",
       "      <td>22</td>\n",
       "      <td>April 7, 2013 (2013-04-07)</td>\n",
       "      <td>\"Dark Wings, Dark Words\"</td>\n",
       "      <td>4.27[41]</td>\n",
       "      <td>Vanessa Taylor</td>\n",
       "    </tr>\n",
       "    <tr>\n",
       "      <th>22</th>\n",
       "      <td>David Benioff</td>\n",
       "      <td>3</td>\n",
       "      <td>23</td>\n",
       "      <td>April 14, 2013 (2013-04-14)</td>\n",
       "      <td>\"Walk of Punishment\"</td>\n",
       "      <td>4.72[42]</td>\n",
       "      <td>David Benioff &amp; D. B. Weiss</td>\n",
       "    </tr>\n",
       "    <tr>\n",
       "      <th>23</th>\n",
       "      <td>Alex Graves</td>\n",
       "      <td>4</td>\n",
       "      <td>24</td>\n",
       "      <td>April 21, 2013 (2013-04-21)</td>\n",
       "      <td>\"And Now His Watch Is Ended\"</td>\n",
       "      <td>4.87[43]</td>\n",
       "      <td>David Benioff &amp; D. B. Weiss</td>\n",
       "    </tr>\n",
       "    <tr>\n",
       "      <th>24</th>\n",
       "      <td>Alex Graves</td>\n",
       "      <td>5</td>\n",
       "      <td>25</td>\n",
       "      <td>April 28, 2013 (2013-04-28)</td>\n",
       "      <td>\"Kissed by Fire\"</td>\n",
       "      <td>5.35[44]</td>\n",
       "      <td>Bryan Cogman</td>\n",
       "    </tr>\n",
       "    <tr>\n",
       "      <th>25</th>\n",
       "      <td>Alik Sakharov</td>\n",
       "      <td>6</td>\n",
       "      <td>26</td>\n",
       "      <td>May 5, 2013 (2013-05-05)</td>\n",
       "      <td>\"The Climb\"</td>\n",
       "      <td>5.50[45]</td>\n",
       "      <td>David Benioff &amp; D. B. Weiss</td>\n",
       "    </tr>\n",
       "    <tr>\n",
       "      <th>26</th>\n",
       "      <td>Michelle MacLaren</td>\n",
       "      <td>7</td>\n",
       "      <td>27</td>\n",
       "      <td>May 12, 2013 (2013-05-12)</td>\n",
       "      <td>\"The Bear and the Maiden Fair\"</td>\n",
       "      <td>4.84[46]</td>\n",
       "      <td>George R. R. Martin</td>\n",
       "    </tr>\n",
       "    <tr>\n",
       "      <th>27</th>\n",
       "      <td>Michelle MacLaren</td>\n",
       "      <td>8</td>\n",
       "      <td>28</td>\n",
       "      <td>May 19, 2013 (2013-05-19)</td>\n",
       "      <td>\"Second Sons\"</td>\n",
       "      <td>5.13[47]</td>\n",
       "      <td>David Benioff &amp; D. B. Weiss</td>\n",
       "    </tr>\n",
       "    <tr>\n",
       "      <th>28</th>\n",
       "      <td>David Nutter</td>\n",
       "      <td>9</td>\n",
       "      <td>29</td>\n",
       "      <td>June 2, 2013 (2013-06-02)</td>\n",
       "      <td>\"The Rains of Castamere\"</td>\n",
       "      <td>5.22[48]</td>\n",
       "      <td>David Benioff &amp; D. B. Weiss</td>\n",
       "    </tr>\n",
       "    <tr>\n",
       "      <th>29</th>\n",
       "      <td>David Nutter</td>\n",
       "      <td>10</td>\n",
       "      <td>30</td>\n",
       "      <td>June 9, 2013 (2013-06-09)</td>\n",
       "      <td>\"Mhysa\"</td>\n",
       "      <td>5.39[49]</td>\n",
       "      <td>David Benioff &amp; D. B. Weiss</td>\n",
       "    </tr>\n",
       "    <tr>\n",
       "      <th>...</th>\n",
       "      <td>...</td>\n",
       "      <td>...</td>\n",
       "      <td>...</td>\n",
       "      <td>...</td>\n",
       "      <td>...</td>\n",
       "      <td>...</td>\n",
       "      <td>...</td>\n",
       "    </tr>\n",
       "    <tr>\n",
       "      <th>37</th>\n",
       "      <td>Alex Graves</td>\n",
       "      <td>8</td>\n",
       "      <td>38</td>\n",
       "      <td>June 1, 2014 (2014-06-01)</td>\n",
       "      <td>\"The Mountain and the Viper\"</td>\n",
       "      <td>7.17[57]</td>\n",
       "      <td>David Benioff &amp; D. B. Weiss</td>\n",
       "    </tr>\n",
       "    <tr>\n",
       "      <th>38</th>\n",
       "      <td>Neil Marshall</td>\n",
       "      <td>9</td>\n",
       "      <td>39</td>\n",
       "      <td>June 8, 2014 (2014-06-08)</td>\n",
       "      <td>\"The Watchers on the Wall\"</td>\n",
       "      <td>6.95[58]</td>\n",
       "      <td>David Benioff &amp; D. B. Weiss</td>\n",
       "    </tr>\n",
       "    <tr>\n",
       "      <th>39</th>\n",
       "      <td>Alex Graves</td>\n",
       "      <td>10</td>\n",
       "      <td>40</td>\n",
       "      <td>June 15, 2014 (2014-06-15)</td>\n",
       "      <td>\"The Children\"</td>\n",
       "      <td>7.09[59]</td>\n",
       "      <td>David Benioff &amp; D. B. Weiss</td>\n",
       "    </tr>\n",
       "    <tr>\n",
       "      <th>40</th>\n",
       "      <td>Michael Slovis</td>\n",
       "      <td>1</td>\n",
       "      <td>41</td>\n",
       "      <td>April 12, 2015 (2015-04-12)</td>\n",
       "      <td>\"The Wars to Come\"</td>\n",
       "      <td>8.00[60]</td>\n",
       "      <td>David Benioff &amp; D. B. Weiss</td>\n",
       "    </tr>\n",
       "    <tr>\n",
       "      <th>41</th>\n",
       "      <td>Michael Slovis</td>\n",
       "      <td>2</td>\n",
       "      <td>42</td>\n",
       "      <td>April 19, 2015 (2015-04-19)</td>\n",
       "      <td>\"The House of Black and White\"</td>\n",
       "      <td>6.81[61]</td>\n",
       "      <td>David Benioff &amp; D. B. Weiss</td>\n",
       "    </tr>\n",
       "    <tr>\n",
       "      <th>42</th>\n",
       "      <td>Mark Mylod</td>\n",
       "      <td>3</td>\n",
       "      <td>43</td>\n",
       "      <td>April 26, 2015 (2015-04-26)</td>\n",
       "      <td>\"High Sparrow\"</td>\n",
       "      <td>6.71[62]</td>\n",
       "      <td>David Benioff &amp; D. B. Weiss</td>\n",
       "    </tr>\n",
       "    <tr>\n",
       "      <th>43</th>\n",
       "      <td>Mark Mylod</td>\n",
       "      <td>4</td>\n",
       "      <td>44</td>\n",
       "      <td>May 3, 2015 (2015-05-03)</td>\n",
       "      <td>\"Sons of the Harpy\"</td>\n",
       "      <td>6.82[63]</td>\n",
       "      <td>Dave Hill</td>\n",
       "    </tr>\n",
       "    <tr>\n",
       "      <th>44</th>\n",
       "      <td>Jeremy Podeswa</td>\n",
       "      <td>5</td>\n",
       "      <td>45</td>\n",
       "      <td>May 10, 2015 (2015-05-10)</td>\n",
       "      <td>\"Kill the Boy\"</td>\n",
       "      <td>6.56[64]</td>\n",
       "      <td>Bryan Cogman</td>\n",
       "    </tr>\n",
       "    <tr>\n",
       "      <th>45</th>\n",
       "      <td>Jeremy Podeswa</td>\n",
       "      <td>6</td>\n",
       "      <td>46</td>\n",
       "      <td>May 17, 2015 (2015-05-17)</td>\n",
       "      <td>\"Unbowed, Unbent, Unbroken\"</td>\n",
       "      <td>6.24[65]</td>\n",
       "      <td>Bryan Cogman</td>\n",
       "    </tr>\n",
       "    <tr>\n",
       "      <th>46</th>\n",
       "      <td>Miguel Sapochnik</td>\n",
       "      <td>7</td>\n",
       "      <td>47</td>\n",
       "      <td>May 24, 2015 (2015-05-24)</td>\n",
       "      <td>\"The Gift\"</td>\n",
       "      <td>5.40[66]</td>\n",
       "      <td>David Benioff &amp; D. B. Weiss</td>\n",
       "    </tr>\n",
       "    <tr>\n",
       "      <th>47</th>\n",
       "      <td>Miguel Sapochnik</td>\n",
       "      <td>8</td>\n",
       "      <td>48</td>\n",
       "      <td>May 31, 2015 (2015-05-31)</td>\n",
       "      <td>\"Hardhome\"</td>\n",
       "      <td>7.01[67]</td>\n",
       "      <td>David Benioff &amp; D. B. Weiss</td>\n",
       "    </tr>\n",
       "    <tr>\n",
       "      <th>48</th>\n",
       "      <td>David Nutter</td>\n",
       "      <td>9</td>\n",
       "      <td>49</td>\n",
       "      <td>June 7, 2015 (2015-06-07)</td>\n",
       "      <td>\"The Dance of Dragons\"</td>\n",
       "      <td>7.14[68]</td>\n",
       "      <td>David Benioff &amp; D. B. Weiss</td>\n",
       "    </tr>\n",
       "    <tr>\n",
       "      <th>49</th>\n",
       "      <td>David Nutter</td>\n",
       "      <td>10</td>\n",
       "      <td>50</td>\n",
       "      <td>June 14, 2015 (2015-06-14)</td>\n",
       "      <td>\"Mother's Mercy\"</td>\n",
       "      <td>8.11[69]</td>\n",
       "      <td>David Benioff &amp; D. B. Weiss</td>\n",
       "    </tr>\n",
       "    <tr>\n",
       "      <th>50</th>\n",
       "      <td>Jeremy Podeswa</td>\n",
       "      <td>1</td>\n",
       "      <td>51</td>\n",
       "      <td>April 24, 2016 (2016-04-24)</td>\n",
       "      <td>\"The Red Woman\"</td>\n",
       "      <td>7.94[70]</td>\n",
       "      <td>David Benioff &amp; D. B. Weiss</td>\n",
       "    </tr>\n",
       "    <tr>\n",
       "      <th>51</th>\n",
       "      <td>Jeremy Podeswa</td>\n",
       "      <td>2</td>\n",
       "      <td>52</td>\n",
       "      <td>May 1, 2016 (2016-05-01)</td>\n",
       "      <td>\"Home\"</td>\n",
       "      <td>7.29[71]</td>\n",
       "      <td>Dave Hill</td>\n",
       "    </tr>\n",
       "    <tr>\n",
       "      <th>52</th>\n",
       "      <td>Daniel Sackheim</td>\n",
       "      <td>3</td>\n",
       "      <td>53</td>\n",
       "      <td>May 8, 2016 (2016-05-08)</td>\n",
       "      <td>\"Oathbreaker\"</td>\n",
       "      <td>7.28[72]</td>\n",
       "      <td>David Benioff &amp; D. B. Weiss</td>\n",
       "    </tr>\n",
       "    <tr>\n",
       "      <th>53</th>\n",
       "      <td>Daniel Sackheim</td>\n",
       "      <td>4</td>\n",
       "      <td>54</td>\n",
       "      <td>May 15, 2016 (2016-05-15)</td>\n",
       "      <td>\"Book of the Stranger\"</td>\n",
       "      <td>7.82[73]</td>\n",
       "      <td>David Benioff &amp; D. B. Weiss</td>\n",
       "    </tr>\n",
       "    <tr>\n",
       "      <th>54</th>\n",
       "      <td>Jack Bender</td>\n",
       "      <td>5</td>\n",
       "      <td>55</td>\n",
       "      <td>May 22, 2016 (2016-05-22)</td>\n",
       "      <td>\"The Door\"</td>\n",
       "      <td>7.89[74]</td>\n",
       "      <td>David Benioff &amp; D. B. Weiss</td>\n",
       "    </tr>\n",
       "    <tr>\n",
       "      <th>55</th>\n",
       "      <td>Jack Bender</td>\n",
       "      <td>6</td>\n",
       "      <td>56</td>\n",
       "      <td>May 29, 2016 (2016-05-29)</td>\n",
       "      <td>\"Blood of My Blood\"</td>\n",
       "      <td>6.71[75]</td>\n",
       "      <td>Bryan Cogman</td>\n",
       "    </tr>\n",
       "    <tr>\n",
       "      <th>56</th>\n",
       "      <td>Mark Mylod</td>\n",
       "      <td>7</td>\n",
       "      <td>57</td>\n",
       "      <td>June 5, 2016 (2016-06-05)</td>\n",
       "      <td>\"The Broken Man\"</td>\n",
       "      <td>7.80[76]</td>\n",
       "      <td>Bryan Cogman</td>\n",
       "    </tr>\n",
       "    <tr>\n",
       "      <th>57</th>\n",
       "      <td>Mark Mylod</td>\n",
       "      <td>8</td>\n",
       "      <td>58</td>\n",
       "      <td>June 12, 2016 (2016-06-12)</td>\n",
       "      <td>\"No One\"</td>\n",
       "      <td>7.60[77]</td>\n",
       "      <td>David Benioff &amp; D. B. Weiss</td>\n",
       "    </tr>\n",
       "    <tr>\n",
       "      <th>58</th>\n",
       "      <td>Miguel Sapochnik</td>\n",
       "      <td>9</td>\n",
       "      <td>59</td>\n",
       "      <td>June 19, 2016 (2016-06-19)</td>\n",
       "      <td>\"Battle of the Bastards\"</td>\n",
       "      <td>7.66[78]</td>\n",
       "      <td>David Benioff &amp; D. B. Weiss</td>\n",
       "    </tr>\n",
       "    <tr>\n",
       "      <th>59</th>\n",
       "      <td>Miguel Sapochnik</td>\n",
       "      <td>10</td>\n",
       "      <td>60</td>\n",
       "      <td>June 26, 2016 (2016-06-26)</td>\n",
       "      <td>\"The Winds of Winter\"</td>\n",
       "      <td>8.89[79]</td>\n",
       "      <td>David Benioff &amp; D. B. Weiss</td>\n",
       "    </tr>\n",
       "    <tr>\n",
       "      <th>60</th>\n",
       "      <td>Jeremy Podeswa</td>\n",
       "      <td>1</td>\n",
       "      <td>61</td>\n",
       "      <td>July 16, 2017 (2017-07-16)</td>\n",
       "      <td>\"Dragonstone\"</td>\n",
       "      <td>10.11[80]</td>\n",
       "      <td>David Benioff &amp; D. B. Weiss</td>\n",
       "    </tr>\n",
       "    <tr>\n",
       "      <th>61</th>\n",
       "      <td>Mark Mylod</td>\n",
       "      <td>2</td>\n",
       "      <td>62</td>\n",
       "      <td>July 23, 2017 (2017-07-23)</td>\n",
       "      <td>\"Stormborn\"</td>\n",
       "      <td>9.27[81]</td>\n",
       "      <td>Bryan Cogman</td>\n",
       "    </tr>\n",
       "    <tr>\n",
       "      <th>62</th>\n",
       "      <td>Mark Mylod</td>\n",
       "      <td>3</td>\n",
       "      <td>63</td>\n",
       "      <td>July 30, 2017 (2017-07-30)</td>\n",
       "      <td>\"The Queen's Justice\"</td>\n",
       "      <td>9.25[82]</td>\n",
       "      <td>David Benioff &amp; D. B. Weiss</td>\n",
       "    </tr>\n",
       "    <tr>\n",
       "      <th>63</th>\n",
       "      <td>Matt Shakman</td>\n",
       "      <td>4</td>\n",
       "      <td>64</td>\n",
       "      <td>August 6, 2017 (2017-08-06)</td>\n",
       "      <td>\"The Spoils of War\"</td>\n",
       "      <td>10.17[83]</td>\n",
       "      <td>David Benioff &amp; D. B. Weiss</td>\n",
       "    </tr>\n",
       "    <tr>\n",
       "      <th>64</th>\n",
       "      <td>Matt Shakman</td>\n",
       "      <td>5</td>\n",
       "      <td>65</td>\n",
       "      <td>August 13, 2017 (2017-08-13)</td>\n",
       "      <td>\"Eastwatch\"</td>\n",
       "      <td>10.72[84]</td>\n",
       "      <td>Dave Hill</td>\n",
       "    </tr>\n",
       "    <tr>\n",
       "      <th>65</th>\n",
       "      <td>Alan Taylor</td>\n",
       "      <td>6</td>\n",
       "      <td>66</td>\n",
       "      <td>August 20, 2017 (2017-08-20)</td>\n",
       "      <td>\"Beyond the Wall\"</td>\n",
       "      <td>10.24[85]</td>\n",
       "      <td>David Benioff &amp; D. B. Weiss</td>\n",
       "    </tr>\n",
       "    <tr>\n",
       "      <th>66</th>\n",
       "      <td>Jeremy Podeswa</td>\n",
       "      <td>7</td>\n",
       "      <td>67</td>\n",
       "      <td>August 27, 2017 (2017-08-27)</td>\n",
       "      <td>\"The Dragon and the Wolf\"</td>\n",
       "      <td>12.07[86]</td>\n",
       "      <td>David Benioff &amp; D. B. Weiss</td>\n",
       "    </tr>\n",
       "  </tbody>\n",
       "</table>\n",
       "<p>67 rows × 7 columns</p>\n",
       "</div>"
      ],
      "text/plain": [
       "          Directed by No. inseason No.overall             Original air date  \\\n",
       "0      Tim Van Patten            1          1   April 17, 2011 (2011-04-17)   \n",
       "1      Tim Van Patten            2          2   April 24, 2011 (2011-04-24)   \n",
       "2          Brian Kirk            3          3      May 1, 2011 (2011-05-01)   \n",
       "3          Brian Kirk            4          4      May 8, 2011 (2011-05-08)   \n",
       "4          Brian Kirk            5          5     May 15, 2011 (2011-05-15)   \n",
       "5      Daniel Minahan            6          6     May 22, 2011 (2011-05-22)   \n",
       "6      Daniel Minahan            7          7     May 29, 2011 (2011-05-29)   \n",
       "7      Daniel Minahan            8          8     June 5, 2011 (2011-06-05)   \n",
       "8         Alan Taylor            9          9    June 12, 2011 (2011-06-12)   \n",
       "9         Alan Taylor           10         10    June 19, 2011 (2011-06-19)   \n",
       "10        Alan Taylor            1         11    April 1, 2012 (2012-04-01)   \n",
       "11        Alan Taylor            2         12    April 8, 2012 (2012-04-08)   \n",
       "12      Alik Sakharov            3         13   April 15, 2012 (2012-04-15)   \n",
       "13     David Petrarca            4         14   April 22, 2012 (2012-04-22)   \n",
       "14     David Petrarca            5         15   April 29, 2012 (2012-04-29)   \n",
       "15       David Nutter            6         16      May 6, 2012 (2012-05-06)   \n",
       "16       David Nutter            7         17     May 13, 2012 (2012-05-13)   \n",
       "17        Alan Taylor            8         18     May 20, 2012 (2012-05-20)   \n",
       "18      Neil Marshall            9         19     May 27, 2012 (2012-05-27)   \n",
       "19        Alan Taylor           10         20     June 3, 2012 (2012-06-03)   \n",
       "20     Daniel Minahan            1         21   March 31, 2013 (2013-03-31)   \n",
       "21     Daniel Minahan            2         22    April 7, 2013 (2013-04-07)   \n",
       "22      David Benioff            3         23   April 14, 2013 (2013-04-14)   \n",
       "23        Alex Graves            4         24   April 21, 2013 (2013-04-21)   \n",
       "24        Alex Graves            5         25   April 28, 2013 (2013-04-28)   \n",
       "25      Alik Sakharov            6         26      May 5, 2013 (2013-05-05)   \n",
       "26  Michelle MacLaren            7         27     May 12, 2013 (2013-05-12)   \n",
       "27  Michelle MacLaren            8         28     May 19, 2013 (2013-05-19)   \n",
       "28       David Nutter            9         29     June 2, 2013 (2013-06-02)   \n",
       "29       David Nutter           10         30     June 9, 2013 (2013-06-09)   \n",
       "..                ...          ...        ...                           ...   \n",
       "37        Alex Graves            8         38     June 1, 2014 (2014-06-01)   \n",
       "38      Neil Marshall            9         39     June 8, 2014 (2014-06-08)   \n",
       "39        Alex Graves           10         40    June 15, 2014 (2014-06-15)   \n",
       "40     Michael Slovis            1         41   April 12, 2015 (2015-04-12)   \n",
       "41     Michael Slovis            2         42   April 19, 2015 (2015-04-19)   \n",
       "42         Mark Mylod            3         43   April 26, 2015 (2015-04-26)   \n",
       "43         Mark Mylod            4         44      May 3, 2015 (2015-05-03)   \n",
       "44     Jeremy Podeswa            5         45     May 10, 2015 (2015-05-10)   \n",
       "45     Jeremy Podeswa            6         46     May 17, 2015 (2015-05-17)   \n",
       "46   Miguel Sapochnik            7         47     May 24, 2015 (2015-05-24)   \n",
       "47   Miguel Sapochnik            8         48     May 31, 2015 (2015-05-31)   \n",
       "48       David Nutter            9         49     June 7, 2015 (2015-06-07)   \n",
       "49       David Nutter           10         50    June 14, 2015 (2015-06-14)   \n",
       "50     Jeremy Podeswa            1         51   April 24, 2016 (2016-04-24)   \n",
       "51     Jeremy Podeswa            2         52      May 1, 2016 (2016-05-01)   \n",
       "52    Daniel Sackheim            3         53      May 8, 2016 (2016-05-08)   \n",
       "53    Daniel Sackheim            4         54     May 15, 2016 (2016-05-15)   \n",
       "54        Jack Bender            5         55     May 22, 2016 (2016-05-22)   \n",
       "55        Jack Bender            6         56     May 29, 2016 (2016-05-29)   \n",
       "56         Mark Mylod            7         57     June 5, 2016 (2016-06-05)   \n",
       "57         Mark Mylod            8         58    June 12, 2016 (2016-06-12)   \n",
       "58   Miguel Sapochnik            9         59    June 19, 2016 (2016-06-19)   \n",
       "59   Miguel Sapochnik           10         60    June 26, 2016 (2016-06-26)   \n",
       "60     Jeremy Podeswa            1         61    July 16, 2017 (2017-07-16)   \n",
       "61         Mark Mylod            2         62    July 23, 2017 (2017-07-23)   \n",
       "62         Mark Mylod            3         63    July 30, 2017 (2017-07-30)   \n",
       "63       Matt Shakman            4         64   August 6, 2017 (2017-08-06)   \n",
       "64       Matt Shakman            5         65  August 13, 2017 (2017-08-13)   \n",
       "65        Alan Taylor            6         66  August 20, 2017 (2017-08-20)   \n",
       "66     Jeremy Podeswa            7         67  August 27, 2017 (2017-08-27)   \n",
       "\n",
       "                                      Title U.S. viewers(millions)  \\\n",
       "0                        \"Winter Is Coming\"               2.22[20]   \n",
       "1                           \"The Kingsroad\"               2.20[21]   \n",
       "2                               \"Lord Snow\"               2.44[22]   \n",
       "3   \"Cripples, Bastards, and Broken Things\"               2.45[23]   \n",
       "4                   \"The Wolf and the Lion\"               2.58[24]   \n",
       "5                          \"A Golden Crown\"               2.44[25]   \n",
       "6                      \"You Win or You Die\"               2.40[26]   \n",
       "7                          \"The Pointy End\"               2.72[27]   \n",
       "8                                  \"Baelor\"               2.66[28]   \n",
       "9                          \"Fire and Blood\"               3.04[29]   \n",
       "10                    \"The North Remembers\"               3.86[30]   \n",
       "11                        \"The Night Lands\"               3.76[31]   \n",
       "12             \"What Is Dead May Never Die\"               3.77[32]   \n",
       "13                        \"Garden of Bones\"               3.65[33]   \n",
       "14                 \"The Ghost of Harrenhal\"               3.90[34]   \n",
       "15               \"The Old Gods and the New\"               3.88[35]   \n",
       "16                    \"A Man Without Honor\"               3.69[36]   \n",
       "17               \"The Prince of Winterfell\"               3.86[37]   \n",
       "18                             \"Blackwater\"               3.38[38]   \n",
       "19                        \"Valar Morghulis\"               4.20[39]   \n",
       "20                         \"Valar Dohaeris\"               4.37[40]   \n",
       "21                 \"Dark Wings, Dark Words\"               4.27[41]   \n",
       "22                     \"Walk of Punishment\"               4.72[42]   \n",
       "23             \"And Now His Watch Is Ended\"               4.87[43]   \n",
       "24                         \"Kissed by Fire\"               5.35[44]   \n",
       "25                              \"The Climb\"               5.50[45]   \n",
       "26           \"The Bear and the Maiden Fair\"               4.84[46]   \n",
       "27                            \"Second Sons\"               5.13[47]   \n",
       "28                 \"The Rains of Castamere\"               5.22[48]   \n",
       "29                                  \"Mhysa\"               5.39[49]   \n",
       "..                                      ...                    ...   \n",
       "37             \"The Mountain and the Viper\"               7.17[57]   \n",
       "38               \"The Watchers on the Wall\"               6.95[58]   \n",
       "39                           \"The Children\"               7.09[59]   \n",
       "40                       \"The Wars to Come\"               8.00[60]   \n",
       "41           \"The House of Black and White\"               6.81[61]   \n",
       "42                           \"High Sparrow\"               6.71[62]   \n",
       "43                      \"Sons of the Harpy\"               6.82[63]   \n",
       "44                           \"Kill the Boy\"               6.56[64]   \n",
       "45              \"Unbowed, Unbent, Unbroken\"               6.24[65]   \n",
       "46                               \"The Gift\"               5.40[66]   \n",
       "47                               \"Hardhome\"               7.01[67]   \n",
       "48                   \"The Dance of Dragons\"               7.14[68]   \n",
       "49                         \"Mother's Mercy\"               8.11[69]   \n",
       "50                          \"The Red Woman\"               7.94[70]   \n",
       "51                                   \"Home\"               7.29[71]   \n",
       "52                            \"Oathbreaker\"               7.28[72]   \n",
       "53                   \"Book of the Stranger\"               7.82[73]   \n",
       "54                               \"The Door\"               7.89[74]   \n",
       "55                      \"Blood of My Blood\"               6.71[75]   \n",
       "56                         \"The Broken Man\"               7.80[76]   \n",
       "57                                 \"No One\"               7.60[77]   \n",
       "58                 \"Battle of the Bastards\"               7.66[78]   \n",
       "59                    \"The Winds of Winter\"               8.89[79]   \n",
       "60                            \"Dragonstone\"              10.11[80]   \n",
       "61                              \"Stormborn\"               9.27[81]   \n",
       "62                    \"The Queen's Justice\"               9.25[82]   \n",
       "63                      \"The Spoils of War\"              10.17[83]   \n",
       "64                              \"Eastwatch\"              10.72[84]   \n",
       "65                        \"Beyond the Wall\"              10.24[85]   \n",
       "66                \"The Dragon and the Wolf\"              12.07[86]   \n",
       "\n",
       "                                           Written by  \n",
       "0                         David Benioff & D. B. Weiss  \n",
       "1                         David Benioff & D. B. Weiss  \n",
       "2                         David Benioff & D. B. Weiss  \n",
       "3                                        Bryan Cogman  \n",
       "4                         David Benioff & D. B. Weiss  \n",
       "5   Story by : David Benioff & D. B. Weiss Telepla...  \n",
       "6                         David Benioff & D. B. Weiss  \n",
       "7                                 George R. R. Martin  \n",
       "8                         David Benioff & D. B. Weiss  \n",
       "9                         David Benioff & D. B. Weiss  \n",
       "10                        David Benioff & D. B. Weiss  \n",
       "11                        David Benioff & D. B. Weiss  \n",
       "12                                       Bryan Cogman  \n",
       "13                                     Vanessa Taylor  \n",
       "14                        David Benioff & D. B. Weiss  \n",
       "15                                     Vanessa Taylor  \n",
       "16                        David Benioff & D. B. Weiss  \n",
       "17                        David Benioff & D. B. Weiss  \n",
       "18                                George R. R. Martin  \n",
       "19                        David Benioff & D. B. Weiss  \n",
       "20                        David Benioff & D. B. Weiss  \n",
       "21                                     Vanessa Taylor  \n",
       "22                        David Benioff & D. B. Weiss  \n",
       "23                        David Benioff & D. B. Weiss  \n",
       "24                                       Bryan Cogman  \n",
       "25                        David Benioff & D. B. Weiss  \n",
       "26                                George R. R. Martin  \n",
       "27                        David Benioff & D. B. Weiss  \n",
       "28                        David Benioff & D. B. Weiss  \n",
       "29                        David Benioff & D. B. Weiss  \n",
       "..                                                ...  \n",
       "37                        David Benioff & D. B. Weiss  \n",
       "38                        David Benioff & D. B. Weiss  \n",
       "39                        David Benioff & D. B. Weiss  \n",
       "40                        David Benioff & D. B. Weiss  \n",
       "41                        David Benioff & D. B. Weiss  \n",
       "42                        David Benioff & D. B. Weiss  \n",
       "43                                          Dave Hill  \n",
       "44                                       Bryan Cogman  \n",
       "45                                       Bryan Cogman  \n",
       "46                        David Benioff & D. B. Weiss  \n",
       "47                        David Benioff & D. B. Weiss  \n",
       "48                        David Benioff & D. B. Weiss  \n",
       "49                        David Benioff & D. B. Weiss  \n",
       "50                        David Benioff & D. B. Weiss  \n",
       "51                                          Dave Hill  \n",
       "52                        David Benioff & D. B. Weiss  \n",
       "53                        David Benioff & D. B. Weiss  \n",
       "54                        David Benioff & D. B. Weiss  \n",
       "55                                       Bryan Cogman  \n",
       "56                                       Bryan Cogman  \n",
       "57                        David Benioff & D. B. Weiss  \n",
       "58                        David Benioff & D. B. Weiss  \n",
       "59                        David Benioff & D. B. Weiss  \n",
       "60                        David Benioff & D. B. Weiss  \n",
       "61                                       Bryan Cogman  \n",
       "62                        David Benioff & D. B. Weiss  \n",
       "63                        David Benioff & D. B. Weiss  \n",
       "64                                          Dave Hill  \n",
       "65                        David Benioff & D. B. Weiss  \n",
       "66                        David Benioff & D. B. Weiss  \n",
       "\n",
       "[67 rows x 7 columns]"
      ]
     },
     "execution_count": 58,
     "metadata": {},
     "output_type": "execute_result"
    }
   ],
   "source": [
    "pd.DataFrame(episodes)"
   ]
  },
  {
   "cell_type": "markdown",
   "metadata": {},
   "source": [
    "## Web APIs"
   ]
  },
  {
   "cell_type": "markdown",
   "metadata": {},
   "source": [
    "### Primer uporabe APIja"
   ]
  },
  {
   "cell_type": "markdown",
   "metadata": {},
   "source": [
    "https://github.com/HackerNews/API"
   ]
  },
  {
   "cell_type": "code",
   "execution_count": 78,
   "metadata": {},
   "outputs": [],
   "source": [
    "articles=[]"
   ]
  },
  {
   "cell_type": "code",
   "execution_count": 79,
   "metadata": {},
   "outputs": [],
   "source": [
    "url = 'https://hacker-news.firebaseio.com/v0'"
   ]
  },
  {
   "cell_type": "code",
   "execution_count": 80,
   "metadata": {},
   "outputs": [
    {
     "data": {
      "text/plain": [
       "'[20022534,20019647,20019874,20019206,20022186,2001'"
      ]
     },
     "execution_count": 80,
     "metadata": {},
     "output_type": "execute_result"
    }
   ],
   "source": [
    "top_stories=requests.get(url+'/topstories.json')\n",
    "top_stories.text[:50]"
   ]
  },
  {
   "cell_type": "code",
   "execution_count": 81,
   "metadata": {},
   "outputs": [],
   "source": [
    "top_stories=top_stories.json()"
   ]
  },
  {
   "cell_type": "code",
   "execution_count": 82,
   "metadata": {},
   "outputs": [
    {
     "data": {
      "text/plain": [
       "[20022534, 20019647, 20019874, 20019206, 20022186]"
      ]
     },
     "execution_count": 82,
     "metadata": {},
     "output_type": "execute_result"
    }
   ],
   "source": [
    "top_stories[:5]"
   ]
  },
  {
   "cell_type": "code",
   "execution_count": 83,
   "metadata": {},
   "outputs": [
    {
     "name": "stdout",
     "output_type": "stream",
     "text": [
      "https://hacker-news.firebaseio.com/v0/item/20022534.json\n",
      "https://hacker-news.firebaseio.com/v0/item/20019647.json\n",
      "https://hacker-news.firebaseio.com/v0/item/20019874.json\n",
      "https://hacker-news.firebaseio.com/v0/item/20019206.json\n",
      "https://hacker-news.firebaseio.com/v0/item/20022186.json\n"
     ]
    }
   ],
   "source": [
    "for story_id in top_stories[:5]:\n",
    "    story_url=url+f'/item/{story_id}.json'\n",
    "    print(story_url)\n",
    "    r=requests.get(story_url)\n",
    "    story_dict=r.json()\n",
    "    articles.append(story_dict)"
   ]
  },
  {
   "cell_type": "code",
   "execution_count": 84,
   "metadata": {},
   "outputs": [
    {
     "data": {
      "text/plain": [
       "{'by': 'tlb',\n",
       " 'descendants': 3,\n",
       " 'id': 20022534,\n",
       " 'kids': [20022753, 20022752, 20022751],\n",
       " 'score': 14,\n",
       " 'time': 1558968224,\n",
       " 'title': 'Power Is Overrated',\n",
       " 'type': 'story',\n",
       " 'url': 'https://www.nytimes.com/2019/05/21/opinion/power-is-overrated.html'}"
      ]
     },
     "execution_count": 84,
     "metadata": {},
     "output_type": "execute_result"
    }
   ],
   "source": [
    "articles[0]"
   ]
  },
  {
   "cell_type": "code",
   "execution_count": null,
   "metadata": {},
   "outputs": [],
   "source": []
  },
  {
   "cell_type": "code",
   "execution_count": null,
   "metadata": {},
   "outputs": [],
   "source": []
  },
  {
   "cell_type": "markdown",
   "metadata": {},
   "source": [
    "### Import data from web - pandas"
   ]
  },
  {
   "cell_type": "markdown",
   "metadata": {},
   "source": [
    "##### [Odprti podatki Slovenije](https://podatki.gov.si/)\n",
    "\n",
    "\n",
    "Na portalu OPSI boste našli vse od podatkov, orodij, do koristnih virov, s katerimi boste lahko razvijali spletne in mobilne aplikacije, oblikovali lastne infografike in drugo"
   ]
  },
  {
   "cell_type": "markdown",
   "metadata": {},
   "source": [
    "Primer: https://support.spatialkey.com/spatialkey-sample-csv-data/"
   ]
  },
  {
   "cell_type": "code",
   "execution_count": 85,
   "metadata": {},
   "outputs": [],
   "source": [
    "data=pd.read_csv('http://samplecsvs.s3.amazonaws.com/Sacramentorealestatetransactions.csv')"
   ]
  },
  {
   "cell_type": "code",
   "execution_count": 86,
   "metadata": {},
   "outputs": [
    {
     "data": {
      "text/html": [
       "<div>\n",
       "<style scoped>\n",
       "    .dataframe tbody tr th:only-of-type {\n",
       "        vertical-align: middle;\n",
       "    }\n",
       "\n",
       "    .dataframe tbody tr th {\n",
       "        vertical-align: top;\n",
       "    }\n",
       "\n",
       "    .dataframe thead th {\n",
       "        text-align: right;\n",
       "    }\n",
       "</style>\n",
       "<table border=\"1\" class=\"dataframe\">\n",
       "  <thead>\n",
       "    <tr style=\"text-align: right;\">\n",
       "      <th></th>\n",
       "      <th>street</th>\n",
       "      <th>city</th>\n",
       "      <th>zip</th>\n",
       "      <th>state</th>\n",
       "      <th>beds</th>\n",
       "      <th>baths</th>\n",
       "      <th>sq__ft</th>\n",
       "      <th>type</th>\n",
       "      <th>sale_date</th>\n",
       "      <th>price</th>\n",
       "      <th>latitude</th>\n",
       "      <th>longitude</th>\n",
       "    </tr>\n",
       "  </thead>\n",
       "  <tbody>\n",
       "    <tr>\n",
       "      <th>0</th>\n",
       "      <td>3526 HIGH ST</td>\n",
       "      <td>SACRAMENTO</td>\n",
       "      <td>95838</td>\n",
       "      <td>CA</td>\n",
       "      <td>2</td>\n",
       "      <td>1</td>\n",
       "      <td>836</td>\n",
       "      <td>Residential</td>\n",
       "      <td>Wed May 21 00:00:00 EDT 2008</td>\n",
       "      <td>59222</td>\n",
       "      <td>38.631913</td>\n",
       "      <td>-121.434879</td>\n",
       "    </tr>\n",
       "    <tr>\n",
       "      <th>1</th>\n",
       "      <td>51 OMAHA CT</td>\n",
       "      <td>SACRAMENTO</td>\n",
       "      <td>95823</td>\n",
       "      <td>CA</td>\n",
       "      <td>3</td>\n",
       "      <td>1</td>\n",
       "      <td>1167</td>\n",
       "      <td>Residential</td>\n",
       "      <td>Wed May 21 00:00:00 EDT 2008</td>\n",
       "      <td>68212</td>\n",
       "      <td>38.478902</td>\n",
       "      <td>-121.431028</td>\n",
       "    </tr>\n",
       "    <tr>\n",
       "      <th>2</th>\n",
       "      <td>2796 BRANCH ST</td>\n",
       "      <td>SACRAMENTO</td>\n",
       "      <td>95815</td>\n",
       "      <td>CA</td>\n",
       "      <td>2</td>\n",
       "      <td>1</td>\n",
       "      <td>796</td>\n",
       "      <td>Residential</td>\n",
       "      <td>Wed May 21 00:00:00 EDT 2008</td>\n",
       "      <td>68880</td>\n",
       "      <td>38.618305</td>\n",
       "      <td>-121.443839</td>\n",
       "    </tr>\n",
       "    <tr>\n",
       "      <th>3</th>\n",
       "      <td>2805 JANETTE WAY</td>\n",
       "      <td>SACRAMENTO</td>\n",
       "      <td>95815</td>\n",
       "      <td>CA</td>\n",
       "      <td>2</td>\n",
       "      <td>1</td>\n",
       "      <td>852</td>\n",
       "      <td>Residential</td>\n",
       "      <td>Wed May 21 00:00:00 EDT 2008</td>\n",
       "      <td>69307</td>\n",
       "      <td>38.616835</td>\n",
       "      <td>-121.439146</td>\n",
       "    </tr>\n",
       "    <tr>\n",
       "      <th>4</th>\n",
       "      <td>6001 MCMAHON DR</td>\n",
       "      <td>SACRAMENTO</td>\n",
       "      <td>95824</td>\n",
       "      <td>CA</td>\n",
       "      <td>2</td>\n",
       "      <td>1</td>\n",
       "      <td>797</td>\n",
       "      <td>Residential</td>\n",
       "      <td>Wed May 21 00:00:00 EDT 2008</td>\n",
       "      <td>81900</td>\n",
       "      <td>38.519470</td>\n",
       "      <td>-121.435768</td>\n",
       "    </tr>\n",
       "  </tbody>\n",
       "</table>\n",
       "</div>"
      ],
      "text/plain": [
       "             street        city    zip state  beds  baths  sq__ft  \\\n",
       "0      3526 HIGH ST  SACRAMENTO  95838    CA     2      1     836   \n",
       "1       51 OMAHA CT  SACRAMENTO  95823    CA     3      1    1167   \n",
       "2    2796 BRANCH ST  SACRAMENTO  95815    CA     2      1     796   \n",
       "3  2805 JANETTE WAY  SACRAMENTO  95815    CA     2      1     852   \n",
       "4   6001 MCMAHON DR  SACRAMENTO  95824    CA     2      1     797   \n",
       "\n",
       "          type                     sale_date  price   latitude   longitude  \n",
       "0  Residential  Wed May 21 00:00:00 EDT 2008  59222  38.631913 -121.434879  \n",
       "1  Residential  Wed May 21 00:00:00 EDT 2008  68212  38.478902 -121.431028  \n",
       "2  Residential  Wed May 21 00:00:00 EDT 2008  68880  38.618305 -121.443839  \n",
       "3  Residential  Wed May 21 00:00:00 EDT 2008  69307  38.616835 -121.439146  \n",
       "4  Residential  Wed May 21 00:00:00 EDT 2008  81900  38.519470 -121.435768  "
      ]
     },
     "execution_count": 86,
     "metadata": {},
     "output_type": "execute_result"
    }
   ],
   "source": [
    "data.head(5)"
   ]
  },
  {
   "cell_type": "code",
   "execution_count": null,
   "metadata": {},
   "outputs": [],
   "source": []
  },
  {
   "cell_type": "code",
   "execution_count": null,
   "metadata": {},
   "outputs": [],
   "source": []
  },
  {
   "cell_type": "code",
   "execution_count": null,
   "metadata": {},
   "outputs": [],
   "source": []
  },
  {
   "cell_type": "code",
   "execution_count": null,
   "metadata": {},
   "outputs": [],
   "source": []
  },
  {
   "cell_type": "markdown",
   "metadata": {},
   "source": [
    "## Web Scraping using pandas"
   ]
  },
  {
   "cell_type": "markdown",
   "metadata": {},
   "source": [
    "> Spletna stran: https://www.fdic.gov/bank/individual/failed/banklist.html"
   ]
  },
  {
   "cell_type": "markdown",
   "metadata": {},
   "source": [
    "`pandas.read_html: ` Read HTML tables into a list of DataFrame objects. -> [Dokumentacija](https://pandas.pydata.org/pandas-docs/version/0.23.4/generated/pandas.read_html.html)\n",
    "\n"
   ]
  },
  {
   "cell_type": "code",
   "execution_count": 87,
   "metadata": {},
   "outputs": [],
   "source": [
    "tables=pd.read_html('https://www.fdic.gov/bank/individual/failed/banklist.html')"
   ]
  },
  {
   "cell_type": "code",
   "execution_count": 88,
   "metadata": {},
   "outputs": [],
   "source": [
    "data1=tables[0]"
   ]
  },
  {
   "cell_type": "code",
   "execution_count": 89,
   "metadata": {},
   "outputs": [
    {
     "data": {
      "text/html": [
       "<div>\n",
       "<style scoped>\n",
       "    .dataframe tbody tr th:only-of-type {\n",
       "        vertical-align: middle;\n",
       "    }\n",
       "\n",
       "    .dataframe tbody tr th {\n",
       "        vertical-align: top;\n",
       "    }\n",
       "\n",
       "    .dataframe thead th {\n",
       "        text-align: right;\n",
       "    }\n",
       "</style>\n",
       "<table border=\"1\" class=\"dataframe\">\n",
       "  <thead>\n",
       "    <tr style=\"text-align: right;\">\n",
       "      <th></th>\n",
       "      <th>Bank Name</th>\n",
       "      <th>City</th>\n",
       "      <th>ST</th>\n",
       "      <th>CERT</th>\n",
       "      <th>Acquiring Institution</th>\n",
       "      <th>Closing Date</th>\n",
       "      <th>Updated Date</th>\n",
       "    </tr>\n",
       "  </thead>\n",
       "  <tbody>\n",
       "    <tr>\n",
       "      <th>0</th>\n",
       "      <td>Washington Federal Bank for Savings</td>\n",
       "      <td>Chicago</td>\n",
       "      <td>IL</td>\n",
       "      <td>30570</td>\n",
       "      <td>Royal Savings Bank</td>\n",
       "      <td>December 15, 2017</td>\n",
       "      <td>February 1, 2019</td>\n",
       "    </tr>\n",
       "    <tr>\n",
       "      <th>1</th>\n",
       "      <td>The Farmers and Merchants State Bank of Argonia</td>\n",
       "      <td>Argonia</td>\n",
       "      <td>KS</td>\n",
       "      <td>17719</td>\n",
       "      <td>Conway Bank</td>\n",
       "      <td>October 13, 2017</td>\n",
       "      <td>February 21, 2018</td>\n",
       "    </tr>\n",
       "  </tbody>\n",
       "</table>\n",
       "</div>"
      ],
      "text/plain": [
       "                                         Bank Name     City  ST   CERT  \\\n",
       "0              Washington Federal Bank for Savings  Chicago  IL  30570   \n",
       "1  The Farmers and Merchants State Bank of Argonia  Argonia  KS  17719   \n",
       "\n",
       "  Acquiring Institution       Closing Date       Updated Date  \n",
       "0    Royal Savings Bank  December 15, 2017   February 1, 2019  \n",
       "1           Conway Bank   October 13, 2017  February 21, 2018  "
      ]
     },
     "execution_count": 89,
     "metadata": {},
     "output_type": "execute_result"
    }
   ],
   "source": [
    "data1.head(2)"
   ]
  },
  {
   "cell_type": "code",
   "execution_count": null,
   "metadata": {},
   "outputs": [],
   "source": []
  },
  {
   "cell_type": "code",
   "execution_count": null,
   "metadata": {},
   "outputs": [],
   "source": []
  },
  {
   "cell_type": "code",
   "execution_count": null,
   "metadata": {},
   "outputs": [],
   "source": []
  },
  {
   "cell_type": "code",
   "execution_count": null,
   "metadata": {},
   "outputs": [],
   "source": []
  },
  {
   "cell_type": "code",
   "execution_count": null,
   "metadata": {},
   "outputs": [],
   "source": []
  },
  {
   "cell_type": "markdown",
   "metadata": {},
   "source": [
    "## Primeri"
   ]
  },
  {
   "cell_type": "markdown",
   "metadata": {},
   "source": [
    "### Scraping and Visualizing IMDB Ratings"
   ]
  },
  {
   "cell_type": "markdown",
   "metadata": {},
   "source": [
    "Stran: http://www.imdb.com/title/tt0944947/episodes"
   ]
  },
  {
   "cell_type": "code",
   "execution_count": 90,
   "metadata": {},
   "outputs": [],
   "source": [
    "import requests\n",
    "from bs4 import BeautifulSoup\n",
    "url = 'http://www.imdb.com/title/tt0944947/episodes'"
   ]
  },
  {
   "cell_type": "code",
   "execution_count": 91,
   "metadata": {},
   "outputs": [],
   "source": [
    "episodes=[]\n",
    "rankings=[]"
   ]
  },
  {
   "cell_type": "code",
   "execution_count": 94,
   "metadata": {},
   "outputs": [
    {
     "name": "stdout",
     "output_type": "stream",
     "text": [
      "1.1 <span class=\"ipl-rating-star__rating\">9.1</span>\n",
      "____________________\n",
      "1.2 <span class=\"ipl-rating-star__rating\">8.8</span>\n",
      "____________________\n",
      "1.3 <span class=\"ipl-rating-star__rating\">8.7</span>\n",
      "____________________\n",
      "1.4 <span class=\"ipl-rating-star__rating\">8.8</span>\n",
      "____________________\n",
      "1.5 <span class=\"ipl-rating-star__rating\">9.1</span>\n",
      "____________________\n",
      "1.6 <span class=\"ipl-rating-star__rating\">9.2</span>\n",
      "____________________\n",
      "1.7 <span class=\"ipl-rating-star__rating\">9.3</span>\n",
      "____________________\n",
      "1.8 <span class=\"ipl-rating-star__rating\">9.1</span>\n",
      "____________________\n",
      "1.9 <span class=\"ipl-rating-star__rating\">9.6</span>\n",
      "____________________\n",
      "1.10 <span class=\"ipl-rating-star__rating\">9.5</span>\n",
      "____________________\n",
      "2.1 <span class=\"ipl-rating-star__rating\">8.9</span>\n",
      "____________________\n",
      "2.2 <span class=\"ipl-rating-star__rating\">8.6</span>\n",
      "____________________\n",
      "2.3 <span class=\"ipl-rating-star__rating\">8.9</span>\n",
      "____________________\n",
      "2.4 <span class=\"ipl-rating-star__rating\">8.9</span>\n",
      "____________________\n",
      "2.5 <span class=\"ipl-rating-star__rating\">8.9</span>\n",
      "____________________\n",
      "2.6 <span class=\"ipl-rating-star__rating\">9.1</span>\n",
      "____________________\n",
      "2.7 <span class=\"ipl-rating-star__rating\">9.0</span>\n",
      "____________________\n",
      "2.8 <span class=\"ipl-rating-star__rating\">8.9</span>\n",
      "____________________\n",
      "2.9 <span class=\"ipl-rating-star__rating\">9.7</span>\n",
      "____________________\n",
      "2.10 <span class=\"ipl-rating-star__rating\">9.5</span>\n",
      "____________________\n",
      "3.1 <span class=\"ipl-rating-star__rating\">8.9</span>\n",
      "____________________\n",
      "3.2 <span class=\"ipl-rating-star__rating\">8.7</span>\n",
      "____________________\n",
      "3.3 <span class=\"ipl-rating-star__rating\">8.9</span>\n",
      "____________________\n",
      "3.4 <span class=\"ipl-rating-star__rating\">9.6</span>\n",
      "____________________\n",
      "3.5 <span class=\"ipl-rating-star__rating\">9.1</span>\n",
      "____________________\n",
      "3.6 <span class=\"ipl-rating-star__rating\">8.9</span>\n",
      "____________________\n",
      "3.7 <span class=\"ipl-rating-star__rating\">8.8</span>\n",
      "____________________\n",
      "3.8 <span class=\"ipl-rating-star__rating\">9.1</span>\n",
      "____________________\n",
      "3.9 <span class=\"ipl-rating-star__rating\">9.9</span>\n",
      "____________________\n",
      "3.10 <span class=\"ipl-rating-star__rating\">9.2</span>\n",
      "____________________\n",
      "4.1 <span class=\"ipl-rating-star__rating\">9.1</span>\n",
      "____________________\n",
      "4.2 <span class=\"ipl-rating-star__rating\">9.7</span>\n",
      "____________________\n",
      "4.3 <span class=\"ipl-rating-star__rating\">8.9</span>\n",
      "____________________\n",
      "4.4 <span class=\"ipl-rating-star__rating\">8.9</span>\n",
      "____________________\n",
      "4.5 <span class=\"ipl-rating-star__rating\">8.8</span>\n",
      "____________________\n",
      "4.6 <span class=\"ipl-rating-star__rating\">9.7</span>\n",
      "____________________\n",
      "4.7 <span class=\"ipl-rating-star__rating\">9.2</span>\n",
      "____________________\n",
      "4.8 <span class=\"ipl-rating-star__rating\">9.7</span>\n",
      "____________________\n",
      "4.9 <span class=\"ipl-rating-star__rating\">9.6</span>\n",
      "____________________\n",
      "4.10 <span class=\"ipl-rating-star__rating\">9.7</span>\n",
      "____________________\n",
      "5.1 <span class=\"ipl-rating-star__rating\">8.6</span>\n",
      "____________________\n",
      "5.2 <span class=\"ipl-rating-star__rating\">8.6</span>\n",
      "____________________\n",
      "5.3 <span class=\"ipl-rating-star__rating\">8.6</span>\n",
      "____________________\n",
      "5.4 <span class=\"ipl-rating-star__rating\">8.8</span>\n",
      "____________________\n",
      "5.5 <span class=\"ipl-rating-star__rating\">8.7</span>\n",
      "____________________\n",
      "5.6 <span class=\"ipl-rating-star__rating\">8.1</span>\n",
      "____________________\n",
      "5.7 <span class=\"ipl-rating-star__rating\">9.1</span>\n",
      "____________________\n",
      "5.8 <span class=\"ipl-rating-star__rating\">9.9</span>\n",
      "____________________\n",
      "5.9 <span class=\"ipl-rating-star__rating\">9.5</span>\n",
      "____________________\n",
      "5.10 <span class=\"ipl-rating-star__rating\">9.1</span>\n",
      "____________________\n",
      "6.1 <span class=\"ipl-rating-star__rating\">8.6</span>\n",
      "____________________\n",
      "6.2 <span class=\"ipl-rating-star__rating\">9.4</span>\n",
      "____________________\n",
      "6.3 <span class=\"ipl-rating-star__rating\">8.8</span>\n",
      "____________________\n",
      "6.4 <span class=\"ipl-rating-star__rating\">9.2</span>\n",
      "____________________\n",
      "6.5 <span class=\"ipl-rating-star__rating\">9.7</span>\n",
      "____________________\n",
      "6.6 <span class=\"ipl-rating-star__rating\">8.5</span>\n",
      "____________________\n",
      "6.7 <span class=\"ipl-rating-star__rating\">8.7</span>\n",
      "____________________\n",
      "6.8 <span class=\"ipl-rating-star__rating\">8.5</span>\n",
      "____________________\n",
      "6.9 <span class=\"ipl-rating-star__rating\">9.9</span>\n",
      "____________________\n",
      "6.10 <span class=\"ipl-rating-star__rating\">9.9</span>\n",
      "____________________\n",
      "7.1 <span class=\"ipl-rating-star__rating\">8.7</span>\n",
      "____________________\n",
      "7.2 <span class=\"ipl-rating-star__rating\">9.0</span>\n",
      "____________________\n",
      "7.3 <span class=\"ipl-rating-star__rating\">9.3</span>\n",
      "____________________\n",
      "7.4 <span class=\"ipl-rating-star__rating\">9.8</span>\n",
      "____________________\n",
      "7.5 <span class=\"ipl-rating-star__rating\">8.9</span>\n",
      "____________________\n",
      "7.6 <span class=\"ipl-rating-star__rating\">9.1</span>\n",
      "____________________\n",
      "7.7 <span class=\"ipl-rating-star__rating\">9.5</span>\n",
      "____________________\n",
      "8.1 <span class=\"ipl-rating-star__rating\">7.7</span>\n",
      "____________________\n",
      "8.2 <span class=\"ipl-rating-star__rating\">8.0</span>\n",
      "____________________\n",
      "8.3 <span class=\"ipl-rating-star__rating\">7.6</span>\n",
      "____________________\n",
      "8.4 <span class=\"ipl-rating-star__rating\">5.6</span>\n",
      "____________________\n",
      "8.5 <span class=\"ipl-rating-star__rating\">6.2</span>\n",
      "____________________\n",
      "8.6 <span class=\"ipl-rating-star__rating\">4.3</span>\n",
      "____________________\n"
     ]
    }
   ],
   "source": [
    "for season in range(1,9):\n",
    "    r=requests.get(url,params={'season':season})\n",
    "    if r.status_code==200:\n",
    "        soup=BeautifulSoup(r.text,'html.parser')\n",
    "        listing=soup.find('div',class_='eplist')\n",
    "        for epnr,div in enumerate(listing.find_all('div',recursive=False)):\n",
    "            episode=f'{season}.{epnr+1}'\n",
    "            rating_el=div.find(class_='ipl-rating-star__rating')\n",
    "            print(episode,rating_el)\n",
    "            print('____________________')\n",
    "            rating=float(rating_el.get_text(strip=True))\n",
    "            episodes.append(episode)\n",
    "            rankings.append(rating)"
   ]
  },
  {
   "cell_type": "code",
   "execution_count": 95,
   "metadata": {},
   "outputs": [
    {
     "data": {
      "text/plain": [
       "[9.1,\n",
       " 8.8,\n",
       " 8.7,\n",
       " 8.8,\n",
       " 9.1,\n",
       " 9.2,\n",
       " 9.3,\n",
       " 9.1,\n",
       " 9.6,\n",
       " 9.5,\n",
       " 8.9,\n",
       " 8.6,\n",
       " 8.9,\n",
       " 8.9,\n",
       " 8.9,\n",
       " 9.1,\n",
       " 9.0,\n",
       " 8.9,\n",
       " 9.7,\n",
       " 9.5]"
      ]
     },
     "execution_count": 95,
     "metadata": {},
     "output_type": "execute_result"
    }
   ],
   "source": [
    "rankings[:20]\n"
   ]
  },
  {
   "cell_type": "code",
   "execution_count": null,
   "metadata": {},
   "outputs": [],
   "source": []
  },
  {
   "cell_type": "code",
   "execution_count": null,
   "metadata": {},
   "outputs": [],
   "source": []
  },
  {
   "cell_type": "code",
   "execution_count": null,
   "metadata": {},
   "outputs": [],
   "source": []
  },
  {
   "cell_type": "code",
   "execution_count": null,
   "metadata": {},
   "outputs": [],
   "source": []
  },
  {
   "cell_type": "code",
   "execution_count": null,
   "metadata": {},
   "outputs": [],
   "source": []
  },
  {
   "cell_type": "markdown",
   "metadata": {},
   "source": [
    "### Scraping Fast Track data"
   ]
  },
  {
   "cell_type": "markdown",
   "metadata": {},
   "source": [
    "Stran: https://www.fasttrack.co.uk/league-tables/tech-track-100/league-table/"
   ]
  },
  {
   "cell_type": "code",
   "execution_count": 96,
   "metadata": {},
   "outputs": [],
   "source": [
    "# import libraries\n",
    "from bs4 import BeautifulSoup\n",
    "import requests\n",
    "import csv"
   ]
  },
  {
   "cell_type": "code",
   "execution_count": 97,
   "metadata": {},
   "outputs": [],
   "source": [
    "# specify the url\n",
    "urlpage =  'http://www.fasttrack.co.uk/league-tables/tech-track-100/league-table/'"
   ]
  },
  {
   "cell_type": "code",
   "execution_count": 98,
   "metadata": {},
   "outputs": [],
   "source": [
    "page=requests.get(urlpage)"
   ]
  },
  {
   "cell_type": "code",
   "execution_count": 100,
   "metadata": {},
   "outputs": [],
   "source": [
    "soup = BeautifulSoup(page.text, 'html.parser')"
   ]
  },
  {
   "cell_type": "code",
   "execution_count": 101,
   "metadata": {},
   "outputs": [],
   "source": [
    "table=soup.find('table',class_='tableSorter')"
   ]
  },
  {
   "cell_type": "code",
   "execution_count": 102,
   "metadata": {},
   "outputs": [
    {
     "data": {
      "text/plain": [
       "3"
      ]
     },
     "execution_count": 102,
     "metadata": {},
     "output_type": "execute_result"
    }
   ],
   "source": [
    "len(table)"
   ]
  },
  {
   "cell_type": "code",
   "execution_count": 103,
   "metadata": {},
   "outputs": [
    {
     "data": {
      "text/plain": [
       "101"
      ]
     },
     "execution_count": 103,
     "metadata": {},
     "output_type": "execute_result"
    }
   ],
   "source": [
    "results=table.find_all('tr')\n",
    "len(results)"
   ]
  },
  {
   "cell_type": "code",
   "execution_count": 104,
   "metadata": {},
   "outputs": [],
   "source": [
    "rows=[]\n",
    "\n",
    "for row in results[0].find_all('th'):\n",
    "    rows.append(row.contents[0])"
   ]
  },
  {
   "cell_type": "code",
   "execution_count": 107,
   "metadata": {},
   "outputs": [
    {
     "data": {
      "text/plain": [
       "['Rank',\n",
       " 'Company',\n",
       " 'Location',\n",
       " 'Year end',\n",
       " 'Annual sales rise over 3 years',\n",
       " 'Latest sales £000s',\n",
       " 'Staff',\n",
       " 'Comment']"
      ]
     },
     "execution_count": 107,
     "metadata": {},
     "output_type": "execute_result"
    }
   ],
   "source": [
    "rows"
   ]
  },
  {
   "cell_type": "code",
   "execution_count": 108,
   "metadata": {},
   "outputs": [],
   "source": [
    "rows=[]\n",
    "rows.append(['Rank','Company Name','Webpage','Description',\n",
    "             'Location','Year End','Annual Sales Rise Over 3 Years',\n",
    "             'Sales £000s','Staff','Comments'])"
   ]
  },
  {
   "cell_type": "code",
   "execution_count": null,
   "metadata": {},
   "outputs": [],
   "source": []
  },
  {
   "cell_type": "code",
   "execution_count": 109,
   "metadata": {},
   "outputs": [],
   "source": [
    "for result in results:\n",
    "    data=result.find_all('td')\n",
    "    if len(data)==0:\n",
    "        continue"
   ]
  },
  {
   "cell_type": "code",
   "execution_count": null,
   "metadata": {},
   "outputs": [],
   "source": []
  },
  {
   "cell_type": "code",
   "execution_count": 110,
   "metadata": {},
   "outputs": [],
   "source": [
    "# write columns to variables\n",
    "rank = data[0].getText()\n",
    "company = data[1].getText()\n",
    "location = data[2].getText()\n",
    "yearend = data[3].getText()\n",
    "salesrise = data[4].getText()\n",
    "sales = data[5].getText()\n",
    "staff = data[6].getText()\n",
    "comments = data[7].getText()"
   ]
  },
  {
   "cell_type": "code",
   "execution_count": 111,
   "metadata": {},
   "outputs": [
    {
     "data": {
      "text/plain": [
       "'100'"
      ]
     },
     "execution_count": 111,
     "metadata": {},
     "output_type": "execute_result"
    }
   ],
   "source": [
    "rank"
   ]
  },
  {
   "cell_type": "code",
   "execution_count": 116,
   "metadata": {},
   "outputs": [
    {
     "data": {
      "text/plain": [
       "'Brompton Technology'"
      ]
     },
     "execution_count": 116,
     "metadata": {},
     "output_type": "execute_result"
    }
   ],
   "source": [
    "companyname=data[1].find('span',class_='company-name').text\n",
    "companyname"
   ]
  },
  {
   "cell_type": "code",
   "execution_count": 118,
   "metadata": {},
   "outputs": [
    {
     "data": {
      "text/plain": [
       "'Video technology provider'"
      ]
     },
     "execution_count": 118,
     "metadata": {},
     "output_type": "execute_result"
    }
   ],
   "source": [
    "description=company.replace(companyname,'')\n",
    "description"
   ]
  },
  {
   "cell_type": "code",
   "execution_count": 119,
   "metadata": {},
   "outputs": [
    {
     "data": {
      "text/plain": [
       "'5,250'"
      ]
     },
     "execution_count": 119,
     "metadata": {},
     "output_type": "execute_result"
    }
   ],
   "source": [
    "sales.strip('*')"
   ]
  },
  {
   "cell_type": "code",
   "execution_count": null,
   "metadata": {},
   "outputs": [],
   "source": []
  },
  {
   "cell_type": "code",
   "execution_count": 120,
   "metadata": {},
   "outputs": [],
   "source": [
    "url=data[1].find('a').get('href')"
   ]
  },
  {
   "cell_type": "code",
   "execution_count": 121,
   "metadata": {},
   "outputs": [
    {
     "data": {
      "text/plain": [
       "'https://www.fasttrack.co.uk/company_profile/brompton-technology/'"
      ]
     },
     "execution_count": 121,
     "metadata": {},
     "output_type": "execute_result"
    }
   ],
   "source": [
    "url"
   ]
  },
  {
   "cell_type": "code",
   "execution_count": 124,
   "metadata": {},
   "outputs": [],
   "source": [
    "page=requests.get(url)\n",
    "soup=BeautifulSoup(page.text,'html.parser')"
   ]
  },
  {
   "cell_type": "code",
   "execution_count": 125,
   "metadata": {},
   "outputs": [],
   "source": [
    "try:\n",
    "    tableRow=soup.find('table').find_all('tr')[-1]\n",
    "    webpage=tableRow.find('a').get('href')\n",
    "except:\n",
    "    webpage=None"
   ]
  },
  {
   "cell_type": "code",
   "execution_count": 126,
   "metadata": {},
   "outputs": [
    {
     "data": {
      "text/plain": [
       "'http://www.bromptontech.com'"
      ]
     },
     "execution_count": 126,
     "metadata": {},
     "output_type": "execute_result"
    }
   ],
   "source": [
    "webpage"
   ]
  },
  {
   "cell_type": "code",
   "execution_count": null,
   "metadata": {},
   "outputs": [],
   "source": []
  },
  {
   "cell_type": "markdown",
   "metadata": {},
   "source": [
    "#### Celotni program skupaj"
   ]
  },
  {
   "cell_type": "code",
   "execution_count": 135,
   "metadata": {},
   "outputs": [],
   "source": [
    "# import libraries\n",
    "from bs4 import BeautifulSoup\n",
    "import requests\n",
    "import csv"
   ]
  },
  {
   "cell_type": "code",
   "execution_count": 136,
   "metadata": {},
   "outputs": [],
   "source": [
    "# specify the url\n",
    "urlpage =  'http://www.fasttrack.co.uk/league-tables/tech-track-100/league-table/'"
   ]
  },
  {
   "cell_type": "code",
   "execution_count": 137,
   "metadata": {},
   "outputs": [],
   "source": [
    "page=requests.get(urlpage)"
   ]
  },
  {
   "cell_type": "code",
   "execution_count": 138,
   "metadata": {},
   "outputs": [],
   "source": [
    "soup = BeautifulSoup(page.text, 'html.parser')"
   ]
  },
  {
   "cell_type": "code",
   "execution_count": 139,
   "metadata": {},
   "outputs": [],
   "source": [
    "table=soup.find('table',class_='tableSorter')"
   ]
  },
  {
   "cell_type": "code",
   "execution_count": 140,
   "metadata": {},
   "outputs": [
    {
     "data": {
      "text/plain": [
       "101"
      ]
     },
     "execution_count": 140,
     "metadata": {},
     "output_type": "execute_result"
    }
   ],
   "source": [
    "results=table.find_all('tr')\n",
    "len(results)"
   ]
  },
  {
   "cell_type": "code",
   "execution_count": 141,
   "metadata": {},
   "outputs": [],
   "source": [
    "rows=[]\n",
    "rows.append(['Rank','Company Name','Webpage','Description',\n",
    "             'Location','Year End','Annual Sales Rise Over 3 Years',\n",
    "             'Sales £000s','Staff','Comments'])"
   ]
  },
  {
   "cell_type": "code",
   "execution_count": 143,
   "metadata": {},
   "outputs": [],
   "source": [
    "for num,result in enumerate(results):\n",
    "    data=result.find_all('td')\n",
    "    if len(data)==0:\n",
    "        continue\n",
    "        # write columns to variables\n",
    "    rank = data[0].getText()\n",
    "    company = data[1].getText()\n",
    "    location = data[2].getText()\n",
    "    yearend = data[3].getText()\n",
    "    salesrise = data[4].getText()\n",
    "    sales = data[5].getText()\n",
    "    staff = data[6].getText()\n",
    "    comments = data[7].getText()\n",
    "      \n",
    "    companyname=data[1].find('span',class_='company-name').text\n",
    "    description=company.replace(companyname,'')\n",
    "    sales=sales.strip('*').strip('†').replace(',','')\n",
    "    url=data[1].find('a').get('href')\n",
    "    page=requests.get(url)\n",
    "    soup=BeautifulSoup(page.text,'html.parser')\n",
    "    try:\n",
    "        tableRow=soup.find('table').find_all('tr')[-1]\n",
    "        webpage=tableRow.find('a').get('href')\n",
    "    except:\n",
    "        webpage=None\n",
    "    rows.append([rank,companyname,webpage,description,location,yearend,salesrise,sales,staff,comments])"
   ]
  },
  {
   "cell_type": "code",
   "execution_count": 144,
   "metadata": {},
   "outputs": [],
   "source": [
    "with open('OUT_companies.csv','w',newline='') as f_output:\n",
    "    csv_output=csv.writer(f_output)\n",
    "    csv_output.writerows(rows)"
   ]
  },
  {
   "cell_type": "code",
   "execution_count": null,
   "metadata": {},
   "outputs": [],
   "source": []
  },
  {
   "cell_type": "code",
   "execution_count": null,
   "metadata": {},
   "outputs": [],
   "source": []
  },
  {
   "cell_type": "code",
   "execution_count": null,
   "metadata": {},
   "outputs": [],
   "source": []
  },
  {
   "cell_type": "code",
   "execution_count": null,
   "metadata": {},
   "outputs": [],
   "source": []
  }
 ],
 "metadata": {
  "kernelspec": {
   "display_name": "Python 3",
   "language": "python",
   "name": "python3"
  },
  "language_info": {
   "codemirror_mode": {
    "name": "ipython",
    "version": 3
   },
   "file_extension": ".py",
   "mimetype": "text/x-python",
   "name": "python",
   "nbconvert_exporter": "python",
   "pygments_lexer": "ipython3",
   "version": "3.7.3"
  }
 },
 "nbformat": 4,
 "nbformat_minor": 2
}
